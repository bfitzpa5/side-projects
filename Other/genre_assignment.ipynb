{
 "cells": [
  {
   "cell_type": "markdown",
   "metadata": {},
   "source": [
    "# Problem Description\n",
    "------"
   ]
  },
  {
   "cell_type": "markdown",
   "metadata": {},
   "source": [
    "![alt text](https://raw.githubusercontent.com/bfitzpa5/side_projects/master/tvision_logo.PNG)\n",
    "\n",
    "### Description\n",
    "TVision uses Automatic Content Recognition (ACR) to identify which content is running on screen at any given moment.  The data returns a Content ID which may be associated with an episode, a movie or an \"other\" type of content.  Metadata associated with each Content ID is provided by a third party and examples are included for each type in the attached tabs.\n",
    "Each piece of content is \"tagged\" with a selection of as many as 6 genre-related pieces of information.\n",
    "The genre tags are not provided with any specific hierarchy.\n",
    "\n",
    "### Objective\n",
    "Increase the usability of TVision data by creating a standardized set of Genre assignments.\n",
    "\n",
    "### Questions\n",
    "1. Can you use the information provided to simplify to a single genre assignment per content ID?\n",
    "2. What are your primary considerations in reaching this assignment?\n",
    "3. Is there a hierarchy that can be inferred from the remaining unstructured information that is provided?\n",
    "4. What other data can be extracted that might be of use to clients looking to analyze TV performance?\n",
    "5. How would your approach differ if you were to approach this as a one-time analytical exercise vs. an ongoing data processing need?\n"
   ]
  },
  {
   "cell_type": "markdown",
   "metadata": {},
   "source": [
    "# _Responses_\n",
    "------\n"
   ]
  },
  {
   "cell_type": "code",
   "execution_count": 1,
   "metadata": {},
   "outputs": [],
   "source": [
    "import numpy as np\n",
    "import pandas as pd\n",
    "from sklearn.feature_extraction.text import CountVectorizer\n",
    "import ast\n",
    "import matplotlib.pyplot as plt\n",
    "import seaborn as sns"
   ]
  },
  {
   "cell_type": "markdown",
   "metadata": {},
   "source": [
    "### Question 1"
   ]
  },
  {
   "cell_type": "markdown",
   "metadata": {},
   "source": [
    "1. _Can you use the information provided to simplify to a single genre assignment per content ID?_"
   ]
  },
  {
   "cell_type": "code",
   "execution_count": 2,
   "metadata": {},
   "outputs": [],
   "source": [
    "df = (pd.read_excel(r'Data/Genre Assignment Project.xlsx', 'Episode Data')\n",
    "      .assign(genres=lambda x: x.genres.apply(lambda row: ast.literal_eval(row)),\n",
    "              genre_count=lambda x: x.genres.apply(lambda row: len(row))))"
   ]
  },
  {
   "cell_type": "markdown",
   "metadata": {},
   "source": [
    "We'll split out all words into count variables to make the data more manageable using sklearn's count vectorizer."
   ]
  },
  {
   "cell_type": "code",
   "execution_count": 3,
   "metadata": {},
   "outputs": [],
   "source": [
    "cv = CountVectorizer(tokenizer=lambda x: x, lowercase=False)\n",
    "x = cv.fit_transform(df.genres)\n",
    "df = pd.concat([df, pd.DataFrame(x.toarray(), columns=cv.get_feature_names())], axis=1)"
   ]
  },
  {
   "cell_type": "markdown",
   "metadata": {},
   "source": [
    "We now have added dummy variable columns for each of the possible genre values. See the below for an example as the third row has all ones for each value"
   ]
  },
  {
   "cell_type": "code",
   "execution_count": 4,
   "metadata": {},
   "outputs": [
    {
     "name": "stdout",
     "output_type": "stream",
     "text": [
      "There are 391 distinct genre values\n"
     ]
    }
   ],
   "source": [
    "print(\"There are %d distinct genre values\" % len(cv.get_feature_names()))"
   ]
  },
  {
   "cell_type": "markdown",
   "metadata": {},
   "source": [
    "Let's take a look at the distribution of word counts per episode"
   ]
  },
  {
   "cell_type": "code",
   "execution_count": 5,
   "metadata": {},
   "outputs": [
    {
     "data": {
      "image/png": "[encoded data removed]",
      "text/plain": [
       "<Figure size 432x288 with 1 Axes>"
      ]
     },
     "metadata": {
      "needs_background": "light"
     },
     "output_type": "display_data"
    }
   ],
   "source": [
    "ax = sns.distplot(df.genre_count, kde=False)\n",
    "ax.set(xlabel='Number of Genres Per Episode', title='Histogram of Genres Per Episode')\n",
    "plt.show()"
   ]
  },
  {
   "cell_type": "code",
   "execution_count": 6,
   "metadata": {},
   "outputs": [
    {
     "data": {
      "text/html": [
       "<div>\n",
       "<style scoped>\n",
       "    .dataframe tbody tr th:only-of-type {\n",
       "        vertical-align: middle;\n",
       "    }\n",
       "\n",
       "    .dataframe tbody tr th {\n",
       "        vertical-align: top;\n",
       "    }\n",
       "\n",
       "    .dataframe thead th {\n",
       "        text-align: right;\n",
       "    }\n",
       "</style>\n",
       "<table border=\"1\" class=\"dataframe\">\n",
       "  <thead>\n",
       "    <tr style=\"text-align: right;\">\n",
       "      <th></th>\n",
       "      <th>Episode Word Counts</th>\n",
       "    </tr>\n",
       "  </thead>\n",
       "  <tbody>\n",
       "    <tr>\n",
       "      <th>count</th>\n",
       "      <td>10000.000000</td>\n",
       "    </tr>\n",
       "    <tr>\n",
       "      <th>mean</th>\n",
       "      <td>3.030700</td>\n",
       "    </tr>\n",
       "    <tr>\n",
       "      <th>std</th>\n",
       "      <td>1.354748</td>\n",
       "    </tr>\n",
       "    <tr>\n",
       "      <th>min</th>\n",
       "      <td>0.000000</td>\n",
       "    </tr>\n",
       "    <tr>\n",
       "      <th>25%</th>\n",
       "      <td>2.000000</td>\n",
       "    </tr>\n",
       "    <tr>\n",
       "      <th>50%</th>\n",
       "      <td>3.000000</td>\n",
       "    </tr>\n",
       "    <tr>\n",
       "      <th>75%</th>\n",
       "      <td>4.000000</td>\n",
       "    </tr>\n",
       "    <tr>\n",
       "      <th>max</th>\n",
       "      <td>12.000000</td>\n",
       "    </tr>\n",
       "  </tbody>\n",
       "</table>\n",
       "</div>"
      ],
      "text/plain": [
       "       Episode Word Counts\n",
       "count         10000.000000\n",
       "mean              3.030700\n",
       "std               1.354748\n",
       "min               0.000000\n",
       "25%               2.000000\n",
       "50%               3.000000\n",
       "75%               4.000000\n",
       "max              12.000000"
      ]
     },
     "execution_count": 6,
     "metadata": {},
     "output_type": "execute_result"
    }
   ],
   "source": [
    "(df.genre_count\n",
    " .describe()\n",
    " .pipe(pd.DataFrame)\n",
    " .rename(columns={'genre_count': 'Episode Word Counts'}))"
   ]
  },
  {
   "cell_type": "markdown",
   "metadata": {},
   "source": [
    "We can see from the above that the most common number of words is 3. \n",
    "Generally, it is normally distributed with a slight right skew.\n",
    "\n",
    "What we can take from this is that we would only have 3 shots at getting the genre right on an episode-by-episode basis."
   ]
  },
  {
   "cell_type": "markdown",
   "metadata": {},
   "source": [
    "#### Total Word Counts"
   ]
  },
  {
   "cell_type": "code",
   "execution_count": 7,
   "metadata": {},
   "outputs": [],
   "source": [
    "df_wc = (df.loc[:, cv.get_feature_names()].sum()\n",
    "         .reset_index()\n",
    "         .rename(columns={'index': 'genre', 0: 'count'}))"
   ]
  },
  {
   "cell_type": "code",
   "execution_count": 8,
   "metadata": {},
   "outputs": [],
   "source": [
    "(df_wc.set_index('genre')\n",
    " .sort_index()\n",
    " .to_excel(r'Data/word_counts.xlsx'))"
   ]
  },
  {
   "cell_type": "code",
   "execution_count": 9,
   "metadata": {},
   "outputs": [
    {
     "data": {
      "image/png": "[encoded data removed]",
      "text/plain": [
       "<Figure size 432x288 with 1 Axes>"
      ]
     },
     "metadata": {
      "needs_background": "light"
     },
     "output_type": "display_data"
    }
   ],
   "source": [
    "ax = (df_wc.nlargest(20, 'count')\n",
    "      .pipe((sns.barplot, 'data'), x='count', y='genre', palette=\"Blues_d\"))\n",
    "ax.set(xlabel='Genre', ylabel = 'Count', title='Words with the 20 Highest Counts')\n",
    "plt.show()"
   ]
  },
  {
   "cell_type": "code",
   "execution_count": 10,
   "metadata": {},
   "outputs": [
    {
     "name": "stdout",
     "output_type": "stream",
     "text": [
      "24.55% of the words only show up once.\n",
      "These are garbage words that we can presumably ignore.\n"
     ]
    }
   ],
   "source": [
    "single_count_words = df_wc.query('count == 1').shape[0]\n",
    "total_words = df_wc.shape[0]\n",
    "percent_single = single_count_words / total_words * 100\n",
    "print(\"{:0.2f}% of the words only show up once.\\n\"\n",
    "      \"These are garbage words that we can presumably ignore.\".format(percent_single))"
   ]
  },
  {
   "cell_type": "markdown",
   "metadata": {},
   "source": [
    "#### Series Analysis"
   ]
  },
  {
   "cell_type": "markdown",
   "metadata": {},
   "source": [
    "We have some _Series ID_'s and _Series Name_'s with NaNs per the below."
   ]
  },
  {
   "cell_type": "code",
   "execution_count": 11,
   "metadata": {},
   "outputs": [
    {
     "name": "stdout",
     "output_type": "stream",
     "text": [
      "There are 28 Series ID/Series Name errors\n"
     ]
    },
    {
     "data": {
      "text/html": [
       "<div>\n",
       "<style scoped>\n",
       "    .dataframe tbody tr th:only-of-type {\n",
       "        vertical-align: middle;\n",
       "    }\n",
       "\n",
       "    .dataframe tbody tr th {\n",
       "        vertical-align: top;\n",
       "    }\n",
       "\n",
       "    .dataframe thead th {\n",
       "        text-align: right;\n",
       "    }\n",
       "</style>\n",
       "<table border=\"1\" class=\"dataframe\">\n",
       "  <thead>\n",
       "    <tr style=\"text-align: right;\">\n",
       "      <th></th>\n",
       "      <th>series_id</th>\n",
       "      <th>series_name</th>\n",
       "    </tr>\n",
       "  </thead>\n",
       "  <tbody>\n",
       "    <tr>\n",
       "      <th>197</th>\n",
       "      <td>NaN</td>\n",
       "      <td>NaN</td>\n",
       "    </tr>\n",
       "    <tr>\n",
       "      <th>807</th>\n",
       "      <td>NaN</td>\n",
       "      <td>NaN</td>\n",
       "    </tr>\n",
       "    <tr>\n",
       "      <th>1758</th>\n",
       "      <td>915050636.0</td>\n",
       "      <td>227</td>\n",
       "    </tr>\n",
       "    <tr>\n",
       "      <th>1918</th>\n",
       "      <td>915050636.0</td>\n",
       "      <td>227</td>\n",
       "    </tr>\n",
       "    <tr>\n",
       "      <th>2241</th>\n",
       "      <td>NaN</td>\n",
       "      <td>NaN</td>\n",
       "    </tr>\n",
       "  </tbody>\n",
       "</table>\n",
       "</div>"
      ],
      "text/plain": [
       "        series_id series_name\n",
       "197           NaN         NaN\n",
       "807           NaN         NaN\n",
       "1758  915050636.0         227\n",
       "1918  915050636.0         227\n",
       "2241          NaN         NaN"
      ]
     },
     "execution_count": 11,
     "metadata": {},
     "output_type": "execute_result"
    }
   ],
   "source": [
    "mask = df.series_name.apply(lambda x: not isinstance(x, str))\n",
    "cols = ['series_id', 'series_name']\n",
    "print(\"There are {:,d} Series ID/Series Name errors\".format(df.loc[mask, ].shape[0]))\n",
    "df.loc[mask, cols].head()"
   ]
  },
  {
   "cell_type": "markdown",
   "metadata": {},
   "source": [
    "We'll drop these for now as there aren't that many and to stay on task, but noting as we'll address it later."
   ]
  },
  {
   "cell_type": "code",
   "execution_count": 12,
   "metadata": {},
   "outputs": [],
   "source": [
    "# remove series with NaNs for series name\n",
    "mask = df.series_name.apply(lambda x: isinstance(x, str))\n",
    "df = (df.loc[mask, :]\n",
    "      .assign(series_id=lambda x: x.series_id.astype('int64')))"
   ]
  },
  {
   "cell_type": "code",
   "execution_count": 13,
   "metadata": {},
   "outputs": [],
   "source": [
    "excluded_cols = ['content_id', 'title', 'original_airdate', 'description', 'season_number', 'episode_number_in_series',\n",
    "                 'episode_number_in_season', 'genres']\n",
    "dims = ['series_id', 'series_name']\n",
    "measures = cv.get_feature_names()\n",
    "assert(len(measures) == 391) # sanity check as we know from the above that we have 391 distinct words\n",
    "df_series = df.groupby(dims)[measures].sum()"
   ]
  },
  {
   "cell_type": "code",
   "execution_count": 14,
   "metadata": {},
   "outputs": [
    {
     "data": {
      "image/png": "[encoded data removed]",
      "text/plain": [
       "<Figure size 432x288 with 1 Axes>"
      ]
     },
     "metadata": {
      "needs_background": "light"
     },
     "output_type": "display_data"
    }
   ],
   "source": [
    "ax = (df_series.sum(axis=1)\n",
    "      .pipe(sns.distplot, kde=False))\n",
    "ax.set(xlabel='Number of Genres Per Series', title='Histogram of Genres Per Series')\n",
    "plt.show()"
   ]
  },
  {
   "cell_type": "markdown",
   "metadata": {},
   "source": [
    "Heavy right skew for genres per series. We have a lot more data to work with on a series-by-series basis compared to episodes-by-episode.\n",
    "\n",
    "Most fall between 0-50 with the largest majority less than 10."
   ]
  },
  {
   "cell_type": "code",
   "execution_count": 15,
   "metadata": {},
   "outputs": [
    {
     "data": {
      "text/html": [
       "<div>\n",
       "<style scoped>\n",
       "    .dataframe tbody tr th:only-of-type {\n",
       "        vertical-align: middle;\n",
       "    }\n",
       "\n",
       "    .dataframe tbody tr th {\n",
       "        vertical-align: top;\n",
       "    }\n",
       "\n",
       "    .dataframe thead th {\n",
       "        text-align: right;\n",
       "    }\n",
       "</style>\n",
       "<table border=\"1\" class=\"dataframe\">\n",
       "  <thead>\n",
       "    <tr style=\"text-align: right;\">\n",
       "      <th></th>\n",
       "      <th>Series Word Counts</th>\n",
       "    </tr>\n",
       "  </thead>\n",
       "  <tbody>\n",
       "    <tr>\n",
       "      <th>count</th>\n",
       "      <td>3427.000000</td>\n",
       "    </tr>\n",
       "    <tr>\n",
       "      <th>mean</th>\n",
       "      <td>8.824336</td>\n",
       "    </tr>\n",
       "    <tr>\n",
       "      <th>std</th>\n",
       "      <td>13.373985</td>\n",
       "    </tr>\n",
       "    <tr>\n",
       "      <th>min</th>\n",
       "      <td>0.000000</td>\n",
       "    </tr>\n",
       "    <tr>\n",
       "      <th>25%</th>\n",
       "      <td>3.000000</td>\n",
       "    </tr>\n",
       "    <tr>\n",
       "      <th>50%</th>\n",
       "      <td>4.000000</td>\n",
       "    </tr>\n",
       "    <tr>\n",
       "      <th>75%</th>\n",
       "      <td>9.000000</td>\n",
       "    </tr>\n",
       "    <tr>\n",
       "      <th>max</th>\n",
       "      <td>225.000000</td>\n",
       "    </tr>\n",
       "  </tbody>\n",
       "</table>\n",
       "</div>"
      ],
      "text/plain": [
       "       Series Word Counts\n",
       "count         3427.000000\n",
       "mean             8.824336\n",
       "std             13.373985\n",
       "min              0.000000\n",
       "25%              3.000000\n",
       "50%              4.000000\n",
       "75%              9.000000\n",
       "max            225.000000"
      ]
     },
     "execution_count": 15,
     "metadata": {},
     "output_type": "execute_result"
    }
   ],
   "source": [
    "(df_series.sum(axis=1)\n",
    " .describe()\n",
    " .pipe(pd.DataFrame)\n",
    " .rename(columns={0: 'Series Word Counts'}))"
   ]
  },
  {
   "cell_type": "markdown",
   "metadata": {},
   "source": [
    "Let's take at the series with highest counts of distinct words look at the top 15"
   ]
  },
  {
   "cell_type": "code",
   "execution_count": 16,
   "metadata": {},
   "outputs": [
    {
     "data": {
      "text/html": [
       "<div>\n",
       "<style scoped>\n",
       "    .dataframe tbody tr th:only-of-type {\n",
       "        vertical-align: middle;\n",
       "    }\n",
       "\n",
       "    .dataframe tbody tr th {\n",
       "        vertical-align: top;\n",
       "    }\n",
       "\n",
       "    .dataframe thead th {\n",
       "        text-align: right;\n",
       "    }\n",
       "</style>\n",
       "<table border=\"1\" class=\"dataframe\">\n",
       "  <thead>\n",
       "    <tr style=\"text-align: right;\">\n",
       "      <th></th>\n",
       "      <th></th>\n",
       "      <th>Count of Genres</th>\n",
       "    </tr>\n",
       "    <tr>\n",
       "      <th>series_id</th>\n",
       "      <th>series_name</th>\n",
       "      <th></th>\n",
       "    </tr>\n",
       "  </thead>\n",
       "  <tbody>\n",
       "    <tr>\n",
       "      <th>913965072</th>\n",
       "      <th>The Amazing World of Gumball</th>\n",
       "      <td>225</td>\n",
       "    </tr>\n",
       "    <tr>\n",
       "      <th>915975543</th>\n",
       "      <th>SportsCenter</th>\n",
       "      <td>170</td>\n",
       "    </tr>\n",
       "    <tr>\n",
       "      <th>903606529</th>\n",
       "      <th>Teen Titans Go!</th>\n",
       "      <td>160</td>\n",
       "    </tr>\n",
       "    <tr>\n",
       "      <th>914312434</th>\n",
       "      <th>Law &amp; Order: Special Victims Unit</th>\n",
       "      <td>138</td>\n",
       "    </tr>\n",
       "    <tr>\n",
       "      <th>4334050653</th>\n",
       "      <th>MLB Baseball</th>\n",
       "      <td>130</td>\n",
       "    </tr>\n",
       "    <tr>\n",
       "      <th>916498415</th>\n",
       "      <th>The Simpsons</th>\n",
       "      <td>128</td>\n",
       "    </tr>\n",
       "    <tr>\n",
       "      <th>4334052992</th>\n",
       "      <th>College Basketball</th>\n",
       "      <td>120</td>\n",
       "    </tr>\n",
       "    <tr>\n",
       "      <th>5177316106</th>\n",
       "      <th>DailyMailTV</th>\n",
       "      <td>108</td>\n",
       "    </tr>\n",
       "    <tr>\n",
       "      <th>913946911</th>\n",
       "      <th>Squawk on the Street</th>\n",
       "      <td>105</td>\n",
       "    </tr>\n",
       "    <tr>\n",
       "      <th>904045333</th>\n",
       "      <th>Access Live</th>\n",
       "      <td>102</td>\n",
       "    </tr>\n",
       "    <tr>\n",
       "      <th>915742467</th>\n",
       "      <th>Classic College Football</th>\n",
       "      <td>99</td>\n",
       "    </tr>\n",
       "    <tr>\n",
       "      <th>5487528341</th>\n",
       "      <th>Bhabi Ji Ghar Par Hain!</th>\n",
       "      <td>99</td>\n",
       "    </tr>\n",
       "    <tr>\n",
       "      <th>915280074</th>\n",
       "      <th>House Hunters</th>\n",
       "      <td>95</td>\n",
       "    </tr>\n",
       "    <tr>\n",
       "      <th>916475604</th>\n",
       "      <th>Savdhaan India:India Fights Back</th>\n",
       "      <td>93</td>\n",
       "    </tr>\n",
       "    <tr>\n",
       "      <th>1644922245</th>\n",
       "      <th>Taarak Mehta Ka Ooltah Chashmah</th>\n",
       "      <td>92</td>\n",
       "    </tr>\n",
       "  </tbody>\n",
       "</table>\n",
       "</div>"
      ],
      "text/plain": [
       "                                              Count of Genres\n",
       "series_id  series_name                                       \n",
       "913965072  The Amazing World of Gumball                   225\n",
       "915975543  SportsCenter                                   170\n",
       "903606529  Teen Titans Go!                                160\n",
       "914312434  Law & Order: Special Victims Unit              138\n",
       "4334050653 MLB Baseball                                   130\n",
       "916498415  The Simpsons                                   128\n",
       "4334052992 College Basketball                             120\n",
       "5177316106 DailyMailTV                                    108\n",
       "913946911  Squawk on the Street                           105\n",
       "904045333  Access Live                                    102\n",
       "915742467  Classic College Football                        99\n",
       "5487528341 Bhabi Ji Ghar Par Hain!                         99\n",
       "915280074  House Hunters                                   95\n",
       "916475604  Savdhaan India:India Fights Back                93\n",
       "1644922245 Taarak Mehta Ka Ooltah Chashmah                 92"
      ]
     },
     "execution_count": 16,
     "metadata": {},
     "output_type": "execute_result"
    }
   ],
   "source": [
    "(df_series.sum(axis=1)\n",
    " .nlargest(15)\n",
    " .astype('int64')\n",
    " .pipe(pd.DataFrame)\n",
    " .rename(columns={0: 'Count of Genres'}))"
   ]
  },
  {
   "cell_type": "markdown",
   "metadata": {},
   "source": [
    "#### Current Algorithm"
   ]
  },
  {
   "cell_type": "code",
   "execution_count": 17,
   "metadata": {},
   "outputs": [],
   "source": [
    "def row_number(input_df, partition_by, order_by, ascending):\n",
    "    df = input_df.copy()\n",
    "    df['rank'] = (df.sort_values(partition_by + order_by, ascending=ascending)\n",
    "                  .groupby(partition_by)\n",
    "                  .cumcount() + 1)\n",
    "    return df"
   ]
  },
  {
   "cell_type": "code",
   "execution_count": 18,
   "metadata": {},
   "outputs": [],
   "source": [
    "# pivot to add word as a dimension for easier analysis\n",
    "id_vars = ['series_id', 'series_name']\n",
    "value_vars = [x for x in df_series.columns.tolist() if x not in id_vars]\n",
    "df_words = (df_series.reset_index()\n",
    "            .pipe(pd.melt, id_vars=id_vars, value_vars=value_vars, var_name='word', value_name='count')\n",
    "            .query('count > 0')\n",
    "            .pipe(row_number, ['series_id', 'series_name'], ['count'], [True, True, False])\n",
    "            .sort_values( ['series_id', 'series_name', 'count'], ascending=[True, True, False]))"
   ]
  },
  {
   "cell_type": "code",
   "execution_count": 19,
   "metadata": {},
   "outputs": [
    {
     "name": "stdout",
     "output_type": "stream",
     "text": [
      "The algorithm of the taking the words with the highest count per series results in 222 unique genres.\n",
      "This is 56.78% of the total number of unique words, meaning it doesn't narrow down our list considerably.\n",
      "It's worth scrolling through these to see what we can gleam though.\n"
     ]
    }
   ],
   "source": [
    "unique_words = df_words.query('rank == 1').word.unique()\n",
    "unique_word_count = unique_words.shape[0]\n",
    "print(\"The algorithm of the taking the words with the highest count per\"\n",
    "      \" series results in {:d} unique genres.\".format(unique_word_count))\n",
    "print(\"This is {:0.2f}% of the total number of unique words, \"\n",
    "      \"meaning it doesn't narrow down our list considerably.\\n\"\n",
    "      \"It's worth scrolling through these to see what we can gleam though.\".format(unique_word_count / total_words * 100))"
   ]
  },
  {
   "cell_type": "code",
   "execution_count": 20,
   "metadata": {},
   "outputs": [
    {
     "data": {
      "text/plain": [
       "['reality',\n",
       " 'action/adventure',\n",
       " 'auto info',\n",
       " 'comedy',\n",
       " 'documentary',\n",
       " 'adaptation',\n",
       " 'collectibles',\n",
       " 'food',\n",
       " 'animals',\n",
       " 'drama',\n",
       " 'entertainment',\n",
       " 'newsmagazine',\n",
       " 'crime',\n",
       " 'family issues',\n",
       " 'cooking',\n",
       " 'full-contact',\n",
       " 'concert',\n",
       " 'animated',\n",
       " 'newscast',\n",
       " 'celebrities',\n",
       " 'dating',\n",
       " 'advice',\n",
       " 'educational',\n",
       " 'hunting',\n",
       " 'diving',\n",
       " 'coleccionables',\n",
       " 'business',\n",
       " 'basketball',\n",
       " 'pro',\n",
       " 'auction',\n",
       " 'home & garden',\n",
       " 'golf',\n",
       " 'courtroom',\n",
       " 'interview',\n",
       " 'college',\n",
       " 'nature',\n",
       " 'real estate',\n",
       " 'construction',\n",
       " 'dance',\n",
       " 'history',\n",
       " 'futebol',\n",
       " 'crime drama',\n",
       " 'current affairs',\n",
       " 'business & finance',\n",
       " 'talk',\n",
       " 'art',\n",
       " 'game show',\n",
       " 'football',\n",
       " 'outdoors',\n",
       " 'candid camera/spy cam']"
      ]
     },
     "execution_count": 20,
     "metadata": {},
     "output_type": "execute_result"
    }
   ],
   "source": [
    "unique_words.tolist()[0:50]"
   ]
  },
  {
   "cell_type": "markdown",
   "metadata": {},
   "source": [
    "Initial notes:\n",
    "* Languages are creating multiple genre, this is an easy fix\n",
    "* Sports are being bucketed into several genres. We could get list of sport numbers then use a dictionary to bucket these into sports.\n",
    "* There are a few spelling mistakes such as \"familijny\"\n",
    "    \n",
    "As noted before though, this algorithm only cuts our genres in half so it's worth using the full list. Switching gears, I think it would be beneficial to have a defined list of genres before implementing any algorithm."
   ]
  },
  {
   "cell_type": "markdown",
   "metadata": {},
   "source": [
    "#### Genre"
   ]
  },
  {
   "cell_type": "markdown",
   "metadata": {},
   "source": [
    "Instead of defining genres as the most common word per series, let's define a set list of genres. For each series, we will pick the most frequently occurring genre from our list as the series' genre. Since _Sports_ are a bit tricky, we'll layer on top of this a sports specific algorithm. We'll define a set list of sports words. If a series has that sport word in it, we'll then classify it as _Sports_ series.\n",
    "\n",
    "First, we'll define our genres from [IMDb's list](https://www.imdb.com/feature/genre/)."
   ]
  },
  {
   "cell_type": "code",
   "execution_count": 21,
   "metadata": {},
   "outputs": [],
   "source": [
    "genres = ['Action', 'Adventure', 'Animation', 'Biography', 'Comedy', 'Crime', \n",
    "          'Documentary', 'Drama', 'Family', 'Fantasy', 'Game Show', \n",
    "          'History', 'Horror', 'Music', 'Musical', 'Mystery', 'News',\n",
    "          'Reality-TV', 'Romance', 'Sci-Fi', 'Sport', 'Superhero', \n",
    "          'Talk Show', 'Thriller', 'War', 'Western']"
   ]
  },
  {
   "cell_type": "markdown",
   "metadata": {},
   "source": [
    "But let's make these lowercase so they're more useable"
   ]
  },
  {
   "cell_type": "code",
   "execution_count": 22,
   "metadata": {},
   "outputs": [],
   "source": [
    "genres = [x.lower() for x in genres]"
   ]
  },
  {
   "cell_type": "markdown",
   "metadata": {},
   "source": [
    "Now that we have our list of genres, how many of these are already found in the data and how many are missing?"
   ]
  },
  {
   "cell_type": "code",
   "execution_count": 23,
   "metadata": {},
   "outputs": [],
   "source": [
    "genres_found = [x for x in genres if x in df_wc.genre.tolist()]\n",
    "genres_not_found = [x for x in genres if x not in df_wc.genre.tolist()]"
   ]
  },
  {
   "cell_type": "code",
   "execution_count": 24,
   "metadata": {},
   "outputs": [
    {
     "name": "stdout",
     "output_type": "stream",
     "text": [
      "The following genres were found:\n",
      "--------------------------------\n",
      "biography\n",
      "comedy\n",
      "crime\n",
      "documentary\n",
      "drama\n",
      "family\n",
      "fantasy\n",
      "game show\n",
      "history\n",
      "horror\n",
      "music\n",
      "musical\n",
      "mystery\n",
      "romance\n",
      "sci-fi\n",
      "war\n",
      "western\n"
     ]
    }
   ],
   "source": [
    "print(\"The following genres were found:\\n\"\n",
    "      \"--------------------------------\")\n",
    "for genre in genres_found:\n",
    "    print(genre)"
   ]
  },
  {
   "cell_type": "code",
   "execution_count": 25,
   "metadata": {},
   "outputs": [
    {
     "name": "stdout",
     "output_type": "stream",
     "text": [
      "The following genres were NOT found:\n",
      "--------------------------------\n",
      "action\n",
      "adventure\n",
      "animation\n",
      "news\n",
      "reality-tv\n",
      "sport\n",
      "superhero\n",
      "talk show\n",
      "thriller\n"
     ]
    }
   ],
   "source": [
    "print(\"The following genres were NOT found:\\n\"\n",
    "      \"--------------------------------\")\n",
    "for genre in genres_not_found:\n",
    "    print(genre)"
   ]
  },
  {
   "cell_type": "markdown",
   "metadata": {},
   "source": [
    "From looking at these lists and the data, we'll want to make a few genres change to our list:\n",
    "* **_Action_** and **_Adventure_** will be combined into **_action/adventure_**\n",
    "* **_Animation_** will be removed as it's not entirely necessary\n",
    "* **_News_** will be changed to **_newscast_**\n",
    "* **_Reality-TV_** will be changed to **_reality_**\n",
    "* **_Superhero_** will be changed to **_superheroes_**\n",
    "* **_Talk Show_** will be changed to **_talk_**\n",
    "* **_Sports_** will use a seperate algorithm defined below\n",
    "* **_Thriller_** will be changed to **_suspense/thriller_**"
   ]
  },
  {
   "cell_type": "code",
   "execution_count": 26,
   "metadata": {},
   "outputs": [],
   "source": [
    "genre_changes = {'action': 'action/adventure',\n",
    "                 'news': 'newscast',\n",
    "                 'reality-tv': 'reality',\n",
    "                 'superhero': 'superheroes',\n",
    "                 'talk show': 'talk',\n",
    "                 'thriller': 'suspense/thriller'}\n",
    "genres = [genre_changes[x] if x in list(genre_changes.keys()) else x for x in genres]\n",
    "excluded_genres = ['animation', 'sport', 'adventure']\n",
    "genres = sorted([x for x in genres if x not in excluded_genres])"
   ]
  },
  {
   "cell_type": "markdown",
   "metadata": {},
   "source": [
    "Let's double check that worked and all genres are now in the data."
   ]
  },
  {
   "cell_type": "code",
   "execution_count": 27,
   "metadata": {},
   "outputs": [
    {
     "data": {
      "text/plain": [
       "['action/adventure',\n",
       " 'biography',\n",
       " 'comedy',\n",
       " 'crime',\n",
       " 'documentary',\n",
       " 'drama',\n",
       " 'family',\n",
       " 'fantasy',\n",
       " 'game show',\n",
       " 'history',\n",
       " 'horror',\n",
       " 'music',\n",
       " 'musical',\n",
       " 'mystery',\n",
       " 'newscast',\n",
       " 'reality',\n",
       " 'romance',\n",
       " 'sci-fi',\n",
       " 'superheroes',\n",
       " 'suspense/thriller',\n",
       " 'talk',\n",
       " 'war',\n",
       " 'western']"
      ]
     },
     "execution_count": 27,
     "metadata": {},
     "output_type": "execute_result"
    }
   ],
   "source": [
    "genres"
   ]
  },
  {
   "cell_type": "code",
   "execution_count": 28,
   "metadata": {},
   "outputs": [],
   "source": [
    "genres_found = [x for x in genres if x in df_wc.genre.tolist()]\n",
    "genres_not_found = [x for x in genres if x not in df_wc.genre.tolist()]"
   ]
  },
  {
   "cell_type": "code",
   "execution_count": 29,
   "metadata": {},
   "outputs": [
    {
     "name": "stdout",
     "output_type": "stream",
     "text": [
      "The following genres were found:\n",
      "--------------------------------\n",
      "action/adventure\n",
      "biography\n",
      "comedy\n",
      "crime\n",
      "documentary\n",
      "drama\n",
      "family\n",
      "fantasy\n",
      "game show\n",
      "history\n",
      "horror\n",
      "music\n",
      "musical\n",
      "mystery\n",
      "newscast\n",
      "reality\n",
      "romance\n",
      "sci-fi\n",
      "superheroes\n",
      "suspense/thriller\n",
      "talk\n",
      "war\n",
      "western\n"
     ]
    }
   ],
   "source": [
    "print(\"The following genres were found:\\n\"\n",
    "      \"--------------------------------\")\n",
    "for genre in genres_found:\n",
    "    print(genre)"
   ]
  },
  {
   "cell_type": "code",
   "execution_count": 30,
   "metadata": {},
   "outputs": [
    {
     "name": "stdout",
     "output_type": "stream",
     "text": [
      "The following genres were NOT found:\n",
      "--------------------------------\n"
     ]
    }
   ],
   "source": [
    "print(\"The following genres were NOT found:\\n\"\n",
    "      \"--------------------------------\")\n",
    "for genre in genres_not_found:\n",
    "    print(genre)"
   ]
  },
  {
   "cell_type": "markdown",
   "metadata": {},
   "source": [
    "Let's also look at the counts per words to make sure genres these are showing up in significant amounts."
   ]
  },
  {
   "cell_type": "code",
   "execution_count": 31,
   "metadata": {},
   "outputs": [
    {
     "data": {
      "text/html": [
       "<div>\n",
       "<style scoped>\n",
       "    .dataframe tbody tr th:only-of-type {\n",
       "        vertical-align: middle;\n",
       "    }\n",
       "\n",
       "    .dataframe tbody tr th {\n",
       "        vertical-align: top;\n",
       "    }\n",
       "\n",
       "    .dataframe thead th {\n",
       "        text-align: right;\n",
       "    }\n",
       "</style>\n",
       "<table border=\"1\" class=\"dataframe\">\n",
       "  <thead>\n",
       "    <tr style=\"text-align: right;\">\n",
       "      <th></th>\n",
       "      <th>count</th>\n",
       "    </tr>\n",
       "    <tr>\n",
       "      <th>genre</th>\n",
       "      <th></th>\n",
       "    </tr>\n",
       "  </thead>\n",
       "  <tbody>\n",
       "    <tr>\n",
       "      <th>comedy</th>\n",
       "      <td>1412</td>\n",
       "    </tr>\n",
       "    <tr>\n",
       "      <th>reality</th>\n",
       "      <td>1336</td>\n",
       "    </tr>\n",
       "    <tr>\n",
       "      <th>talk</th>\n",
       "      <td>1089</td>\n",
       "    </tr>\n",
       "    <tr>\n",
       "      <th>drama</th>\n",
       "      <td>1035</td>\n",
       "    </tr>\n",
       "    <tr>\n",
       "      <th>documentary</th>\n",
       "      <td>790</td>\n",
       "    </tr>\n",
       "    <tr>\n",
       "      <th>family</th>\n",
       "      <td>737</td>\n",
       "    </tr>\n",
       "    <tr>\n",
       "      <th>newscast</th>\n",
       "      <td>672</td>\n",
       "    </tr>\n",
       "    <tr>\n",
       "      <th>crime</th>\n",
       "      <td>610</td>\n",
       "    </tr>\n",
       "    <tr>\n",
       "      <th>action/adventure</th>\n",
       "      <td>572</td>\n",
       "    </tr>\n",
       "    <tr>\n",
       "      <th>game show</th>\n",
       "      <td>305</td>\n",
       "    </tr>\n",
       "    <tr>\n",
       "      <th>romance</th>\n",
       "      <td>283</td>\n",
       "    </tr>\n",
       "    <tr>\n",
       "      <th>fantasy</th>\n",
       "      <td>241</td>\n",
       "    </tr>\n",
       "    <tr>\n",
       "      <th>history</th>\n",
       "      <td>201</td>\n",
       "    </tr>\n",
       "    <tr>\n",
       "      <th>suspense/thriller</th>\n",
       "      <td>153</td>\n",
       "    </tr>\n",
       "    <tr>\n",
       "      <th>music</th>\n",
       "      <td>152</td>\n",
       "    </tr>\n",
       "    <tr>\n",
       "      <th>sci-fi</th>\n",
       "      <td>116</td>\n",
       "    </tr>\n",
       "    <tr>\n",
       "      <th>horror</th>\n",
       "      <td>82</td>\n",
       "    </tr>\n",
       "    <tr>\n",
       "      <th>western</th>\n",
       "      <td>50</td>\n",
       "    </tr>\n",
       "    <tr>\n",
       "      <th>war</th>\n",
       "      <td>41</td>\n",
       "    </tr>\n",
       "    <tr>\n",
       "      <th>biography</th>\n",
       "      <td>14</td>\n",
       "    </tr>\n",
       "    <tr>\n",
       "      <th>mystery</th>\n",
       "      <td>11</td>\n",
       "    </tr>\n",
       "    <tr>\n",
       "      <th>superheroes</th>\n",
       "      <td>11</td>\n",
       "    </tr>\n",
       "    <tr>\n",
       "      <th>musical</th>\n",
       "      <td>8</td>\n",
       "    </tr>\n",
       "  </tbody>\n",
       "</table>\n",
       "</div>"
      ],
      "text/plain": [
       "                   count\n",
       "genre                   \n",
       "comedy              1412\n",
       "reality             1336\n",
       "talk                1089\n",
       "drama               1035\n",
       "documentary          790\n",
       "family               737\n",
       "newscast             672\n",
       "crime                610\n",
       "action/adventure     572\n",
       "game show            305\n",
       "romance              283\n",
       "fantasy              241\n",
       "history              201\n",
       "suspense/thriller    153\n",
       "music                152\n",
       "sci-fi               116\n",
       "horror                82\n",
       "western               50\n",
       "war                   41\n",
       "biography             14\n",
       "mystery               11\n",
       "superheroes           11\n",
       "musical                8"
      ]
     },
     "execution_count": 31,
     "metadata": {},
     "output_type": "execute_result"
    }
   ],
   "source": [
    "mask = df_wc.genre.isin(genres)\n",
    "(df_wc.loc[mask, :]\n",
    " .sort_values('count', ascending=False)\n",
    " .set_index('genre'))"
   ]
  },
  {
   "cell_type": "markdown",
   "metadata": {},
   "source": [
    "#### Sports\n",
    "\n",
    "Next, let's define the sports part of the algoritm as discussed above. As we said, we'll first define a set list of sports words. I did this in the \"Words\" tab of the excel. If a series has that sport word in it, we'll then classify it as _Sports_ series."
   ]
  },
  {
   "cell_type": "code",
   "execution_count": 32,
   "metadata": {},
   "outputs": [],
   "source": [
    "# import sports\n",
    "sports = (pd.read_excel(r'Data/Genre Assignment Project.xlsx', 'Words', 3, usecols='B:XFD')\n",
    "          .query('Sports == 1')\n",
    "          .Word\n",
    "          .values\n",
    "          .tolist())"
   ]
  },
  {
   "cell_type": "code",
   "execution_count": 33,
   "metadata": {},
   "outputs": [
    {
     "name": "stdout",
     "output_type": "stream",
     "text": [
      "We can identify 510 sports series. This is 14.88% of the total series count.\n"
     ]
    }
   ],
   "source": [
    "sport_mask = df_series.loc[:, sports].sum(axis=1) > 0\n",
    "cols = ['series', 'series_id']\n",
    "sports_count = df_series.loc[sport_mask, ].shape[0]\n",
    "sports_percent = sports_count / df_series.shape[0] * 100\n",
    "print(\"We can identify {:,d} sports series. \"\n",
    "      \"This is {:,.2f}% of the total series count.\".format(sports_count, sports_percent))"
   ]
  },
  {
   "cell_type": "markdown",
   "metadata": {},
   "source": [
    "#### Bag of Words Algorithm\n",
    "\n",
    "Now that we have our genres and sports, let's create our first attempt at the algorithm here."
   ]
  },
  {
   "cell_type": "code",
   "execution_count": 34,
   "metadata": {},
   "outputs": [],
   "source": [
    "cols = ['series_id', 'series_name']\n",
    "sports_word_mask = df_words.word.isin(sports)\n",
    "sports_series = (df_words.loc[sports_word_mask, [x for x in cols if x != 'genre']]\n",
    "                 .drop_duplicates()\n",
    "                 .assign(genre='sports'))"
   ]
  },
  {
   "cell_type": "code",
   "execution_count": 35,
   "metadata": {},
   "outputs": [],
   "source": [
    "non_sports_mask = ~df_words.series_id.isin(sports_series.series_id.unique().tolist())\n",
    "genre_word_mask = df_words.word.isin(genres)\n",
    "dims = ['series_id', 'series_name', 'word']\n",
    "measures = ['count']\n",
    "non_sports_series = (df_words.loc[non_sports_mask & genre_word_mask, ]\n",
    "                     .drop('rank', axis=1)\n",
    "                     .pipe(row_number, ['series_id', 'series_name'], ['count'], [True, True, False])\n",
    "                     .query('rank == 1')\n",
    "                     .rename(columns={'word': 'genre'})\n",
    "                     .drop(['count', 'rank'], axis=1))"
   ]
  },
  {
   "cell_type": "code",
   "execution_count": 36,
   "metadata": {},
   "outputs": [],
   "source": [
    "categorized_series_ids = sports_series.series_id.tolist() + non_sports_series.series_id.tolist()\n",
    "uncategorized_mask = ~df_words.series_id.isin(categorized_series_ids)\n",
    "cols = ['series_id', 'series_name']\n",
    "uncategorized_series = (df_words.loc[uncategorized_mask, cols]\n",
    "                        .drop_duplicates()\n",
    "                        .assign(genre='uncategorized'))"
   ]
  },
  {
   "cell_type": "code",
   "execution_count": 37,
   "metadata": {},
   "outputs": [
    {
     "data": {
      "text/plain": [
       "uncategorized        691\n",
       "sports               510\n",
       "comedy               408\n",
       "reality              339\n",
       "documentary          271\n",
       "drama                261\n",
       "action/adventure     217\n",
       "crime                194\n",
       "talk                 123\n",
       "family                75\n",
       "newscast              56\n",
       "game show             54\n",
       "history               25\n",
       "music                 24\n",
       "fantasy               19\n",
       "western                9\n",
       "romance                8\n",
       "suspense/thriller      8\n",
       "sci-fi                 7\n",
       "horror                 6\n",
       "biography              6\n",
       "mystery                1\n",
       "war                    1\n",
       "Name: genre, dtype: int64"
      ]
     },
     "execution_count": 37,
     "metadata": {},
     "output_type": "execute_result"
    }
   ],
   "source": [
    "frames = [sports_series, non_sports_series, uncategorized_series]\n",
    "df_genre_1 = (pd.concat(frames, axis=0)\n",
    "              .set_index(['series_id', 'series_name']))\n",
    "df_genre_1.genre.value_counts()"
   ]
  },
  {
   "cell_type": "markdown",
   "metadata": {},
   "source": [
    "#### Let's Check How We're Doing"
   ]
  },
  {
   "cell_type": "code",
   "execution_count": 38,
   "metadata": {},
   "outputs": [
    {
     "name": "stdout",
     "output_type": "stream",
     "text": [
      "Using a straight bag-of-words method categorizes 76.51% percent of the total series\n"
     ]
    }
   ],
   "source": [
    "genre_mask = df_series.loc[:, genres].sum(axis=1) > 0\n",
    "sport_mask = df_series.loc[:, sports].sum(axis=1) > 0\n",
    "currently_categorized_series = df_series.loc[genre_mask | sport_mask, :].shape[0]\n",
    "total_series = df_series.shape[0]\n",
    "percent_categorized = currently_categorized_series / total_series * 100\n",
    "print(\"Using a straight bag-of-words method categorizes {:0.2f}% percent of the total series\".format(percent_categorized))"
   ]
  },
  {
   "cell_type": "code",
   "execution_count": 39,
   "metadata": {},
   "outputs": [],
   "source": [
    "uncategorized = df_series.loc[~genre_mask & ~sport_mask, :]\n",
    "colsums = pd.DataFrame(uncategorized.sum(axis=0)).rename(columns={0: 'value'})\n",
    "cols_with_vals = colsums.loc[colsums.value > 0, ].index.tolist()\n",
    "uncategorized.loc[:, cols_with_vals].to_excel(r'Data/uncategorized.xlsx')"
   ]
  },
  {
   "cell_type": "markdown",
   "metadata": {},
   "source": [
    "#### Bag of Words Algorithm 2\n",
    "\n",
    "Doing some analysis of the uncategorized series, many of them have *Food*, *Travel* or *Business* in them. Let's add these to our list to start to cut down the number of uncategorized. \n",
    "\n",
    "Also, although categorizing almost 80% of total series is good, we're still left with 691 uncategorized. For the remaining, we'll train a logistic regression with already categorized series' as training data. We'll then use this algorithm to predict the genre for the remaining uncategorized shows."
   ]
  },
  {
   "cell_type": "code",
   "execution_count": 40,
   "metadata": {},
   "outputs": [],
   "source": [
    "genres = sorted(genres + ['food', 'travel', 'business'])"
   ]
  },
  {
   "cell_type": "code",
   "execution_count": 41,
   "metadata": {},
   "outputs": [],
   "source": [
    "cols = ['series_id', 'series_name']\n",
    "sports_word_mask = df_words.word.isin(sports)\n",
    "sports_series = (df_words.loc[sports_word_mask, [x for x in cols if x != 'genre']]\n",
    "                 .drop_duplicates()\n",
    "                 .assign(genre='sports'))"
   ]
  },
  {
   "cell_type": "code",
   "execution_count": 42,
   "metadata": {},
   "outputs": [],
   "source": [
    "non_sports_mask = ~df_words.series_id.isin(sports_series.series_id.unique().tolist())\n",
    "genre_word_mask = df_words.word.isin(genres)\n",
    "dims = ['series_id', 'series_name', 'word']\n",
    "measures = ['count']\n",
    "non_sports_series = (df_words.loc[non_sports_mask & genre_word_mask, ]\n",
    "                     .drop('rank', axis=1)\n",
    "                     .pipe(row_number, ['series_id', 'series_name'], ['count'], [True, True, False])\n",
    "                     .query('rank == 1')\n",
    "                     .rename(columns={'word': 'genre'})\n",
    "                     .drop(['count', 'rank'], axis=1))"
   ]
  },
  {
   "cell_type": "code",
   "execution_count": 43,
   "metadata": {},
   "outputs": [],
   "source": [
    "categorized_series_ids = sports_series.series_id.tolist() + non_sports_series.series_id.tolist()\n",
    "uncategorized_mask = ~df_words.series_id.isin(categorized_series_ids)\n",
    "cols = ['series_id', 'series_name']\n",
    "uncategorized_series = (df_words.loc[uncategorized_mask, cols]\n",
    "                        .drop_duplicates()\n",
    "                        .assign(genre='uncategorized'))"
   ]
  },
  {
   "cell_type": "code",
   "execution_count": 44,
   "metadata": {},
   "outputs": [],
   "source": [
    "join_cols = ['series_id', 'series_name']\n",
    "frames = [sports_series, non_sports_series, uncategorized_series]\n",
    "df_genre_2_temp = pd.concat(frames, axis=0).set_index(join_cols)"
   ]
  },
  {
   "cell_type": "code",
   "execution_count": 45,
   "metadata": {},
   "outputs": [
    {
     "name": "stdout",
     "output_type": "stream",
     "text": [
      "Adding food, travel and business brought the number of uncategorized series down to 515 from 691\n"
     ]
    }
   ],
   "source": [
    "print(\"Adding food, travel and business brought the number of uncategorized series down \"\n",
    "      \"to {:,d} from 691\".format(uncategorized_series.shape[0]))"
   ]
  },
  {
   "cell_type": "markdown",
   "metadata": {},
   "source": [
    "##### Logistic Regression"
   ]
  },
  {
   "cell_type": "code",
   "execution_count": 98,
   "metadata": {},
   "outputs": [],
   "source": [
    "from sklearn.linear_model import LogisticRegression\n",
    "from sklearn.model_selection import train_test_split"
   ]
  },
  {
   "cell_type": "code",
   "execution_count": 99,
   "metadata": {},
   "outputs": [],
   "source": [
    "join_cols = ['series_id', 'series_name']\n",
    "data = df_series.join(df_genre_2_temp)\n",
    "data_uncategorized = data.query('genre == \"uncategorized\" or genre != genre')\n",
    "data_categorized = data.query('genre != \"uncategorized\" and genre == genre')\n",
    "X = data_categorized.drop('genre', axis=1)\n",
    "y = data_categorized.genre\n",
    "X_train, X_test, y_train, y_test = train_test_split(X, y, test_size=0.3)\n",
    "X_holdout = data_uncategorized.drop('genre', axis=1)"
   ]
  },
  {
   "cell_type": "code",
   "execution_count": 100,
   "metadata": {},
   "outputs": [],
   "source": [
    "clf = LogisticRegression(random_state=0, solver='lbfgs', multi_class='multinomial').fit(X_train, y_train)"
   ]
  },
  {
   "cell_type": "code",
   "execution_count": 127,
   "metadata": {},
   "outputs": [
    {
     "name": "stdout",
     "output_type": "stream",
     "text": [
      "Training Score:     99.18%\n",
      "Test Score:         97.74%\n"
     ]
    }
   ],
   "source": [
    "train_accuracy = clf.score(X_train, y_train) * 100\n",
    "test_accuracy = clf.score(X_test, y_test) * 100\n",
    "print(\"Training Score:{:-10.2f}%\\nTest Score:    {:-10.2f}%\".format(train_accuracy, test_accuracy))"
   ]
  },
  {
   "cell_type": "markdown",
   "metadata": {},
   "source": [
    "These are scoring pretty high, most likely due to the fact that a majority of these words contain the words itself.\n",
    "Let's remove those columns and see how we do."
   ]
  },
  {
   "cell_type": "code",
   "execution_count": 131,
   "metadata": {},
   "outputs": [],
   "source": [
    "cols = [x for x in data.columns.tolist() if x not in genres]\n",
    "data = data.loc[:, cols]\n",
    "data_uncategorized = data.query('genre == \"uncategorized\" or genre != genre')\n",
    "data_categorized = data.query('genre != \"uncategorized\" and genre == genre')\n",
    "X = data_categorized.drop('genre', axis=1)\n",
    "y = data_categorized.genre\n",
    "X_train, X_test, y_train, y_test = train_test_split(X, y, test_size=0.3)\n",
    "X_holdout = data_uncategorized.drop('genre', axis=1)"
   ]
  },
  {
   "cell_type": "code",
   "execution_count": 137,
   "metadata": {},
   "outputs": [],
   "source": [
    "clf = LogisticRegression(random_state=0, solver='lbfgs', multi_class='multinomial', max_iter=1000).fit(X_train, y_train)"
   ]
  },
  {
   "cell_type": "code",
   "execution_count": 138,
   "metadata": {},
   "outputs": [
    {
     "name": "stdout",
     "output_type": "stream",
     "text": [
      "Training Score:     66.41%\n",
      "Test Score:         57.86%\n"
     ]
    }
   ],
   "source": [
    "train_accuracy = clf.score(X_train, y_train) * 100\n",
    "test_accuracy = clf.score(X_test, y_test) * 100\n",
    "print(\"Training Score:{:-10.2f}%\\nTest Score:    {:-10.2f}%\".format(train_accuracy, test_accuracy))"
   ]
  },
  {
   "cell_type": "markdown",
   "metadata": {},
   "source": [
    "Not nearly as good"
   ]
  },
  {
   "cell_type": "code",
   "execution_count": 147,
   "metadata": {},
   "outputs": [
    {
     "ename": "ValueError",
     "evalue": "could not convert string to float: 'action/adventure'",
     "output_type": "error",
     "traceback": [
      "\u001b[1;31m---------------------------------------------------------------------------\u001b[0m",
      "\u001b[1;31mValueError\u001b[0m                                Traceback (most recent call last)",
      "\u001b[1;32m<ipython-input-147-fda0f55729b9>\u001b[0m in \u001b[0;36m<module>\u001b[1;34m\u001b[0m\n\u001b[1;32m----> 1\u001b[1;33m \u001b[0mX_holdout\u001b[0m\u001b[1;33m[\u001b[0m\u001b[1;34m'genre'\u001b[0m\u001b[1;33m]\u001b[0m \u001b[1;33m=\u001b[0m \u001b[0mclf\u001b[0m\u001b[1;33m.\u001b[0m\u001b[0mpredict\u001b[0m\u001b[1;33m(\u001b[0m\u001b[0mX_holdout\u001b[0m\u001b[1;33m)\u001b[0m\u001b[1;33m\u001b[0m\u001b[1;33m\u001b[0m\u001b[0m\n\u001b[0m\u001b[0;32m      2\u001b[0m \u001b[0mX_holdout\u001b[0m\u001b[1;33m[\u001b[0m\u001b[1;34m'genre'\u001b[0m\u001b[1;33m]\u001b[0m\u001b[1;33m.\u001b[0m\u001b[0mvalue_counts\u001b[0m\u001b[1;33m(\u001b[0m\u001b[1;33m)\u001b[0m\u001b[1;33m\u001b[0m\u001b[1;33m\u001b[0m\u001b[0m\n",
      "\u001b[1;32m~\\Anaconda3\\lib\\site-packages\\sklearn\\linear_model\\base.py\u001b[0m in \u001b[0;36mpredict\u001b[1;34m(self, X)\u001b[0m\n\u001b[0;32m    279\u001b[0m             \u001b[0mPredicted\u001b[0m \u001b[1;32mclass\u001b[0m \u001b[0mlabel\u001b[0m \u001b[0mper\u001b[0m \u001b[0msample\u001b[0m\u001b[1;33m.\u001b[0m\u001b[1;33m\u001b[0m\u001b[1;33m\u001b[0m\u001b[0m\n\u001b[0;32m    280\u001b[0m         \"\"\"\n\u001b[1;32m--> 281\u001b[1;33m         \u001b[0mscores\u001b[0m \u001b[1;33m=\u001b[0m \u001b[0mself\u001b[0m\u001b[1;33m.\u001b[0m\u001b[0mdecision_function\u001b[0m\u001b[1;33m(\u001b[0m\u001b[0mX\u001b[0m\u001b[1;33m)\u001b[0m\u001b[1;33m\u001b[0m\u001b[1;33m\u001b[0m\u001b[0m\n\u001b[0m\u001b[0;32m    282\u001b[0m         \u001b[1;32mif\u001b[0m \u001b[0mlen\u001b[0m\u001b[1;33m(\u001b[0m\u001b[0mscores\u001b[0m\u001b[1;33m.\u001b[0m\u001b[0mshape\u001b[0m\u001b[1;33m)\u001b[0m \u001b[1;33m==\u001b[0m \u001b[1;36m1\u001b[0m\u001b[1;33m:\u001b[0m\u001b[1;33m\u001b[0m\u001b[1;33m\u001b[0m\u001b[0m\n\u001b[0;32m    283\u001b[0m             \u001b[0mindices\u001b[0m \u001b[1;33m=\u001b[0m \u001b[1;33m(\u001b[0m\u001b[0mscores\u001b[0m \u001b[1;33m>\u001b[0m \u001b[1;36m0\u001b[0m\u001b[1;33m)\u001b[0m\u001b[1;33m.\u001b[0m\u001b[0mastype\u001b[0m\u001b[1;33m(\u001b[0m\u001b[0mnp\u001b[0m\u001b[1;33m.\u001b[0m\u001b[0mint\u001b[0m\u001b[1;33m)\u001b[0m\u001b[1;33m\u001b[0m\u001b[1;33m\u001b[0m\u001b[0m\n",
      "\u001b[1;32m~\\Anaconda3\\lib\\site-packages\\sklearn\\linear_model\\base.py\u001b[0m in \u001b[0;36mdecision_function\u001b[1;34m(self, X)\u001b[0m\n\u001b[0;32m    255\u001b[0m                                  \"yet\" % {'name': type(self).__name__})\n\u001b[0;32m    256\u001b[0m \u001b[1;33m\u001b[0m\u001b[0m\n\u001b[1;32m--> 257\u001b[1;33m         \u001b[0mX\u001b[0m \u001b[1;33m=\u001b[0m \u001b[0mcheck_array\u001b[0m\u001b[1;33m(\u001b[0m\u001b[0mX\u001b[0m\u001b[1;33m,\u001b[0m \u001b[0maccept_sparse\u001b[0m\u001b[1;33m=\u001b[0m\u001b[1;34m'csr'\u001b[0m\u001b[1;33m)\u001b[0m\u001b[1;33m\u001b[0m\u001b[1;33m\u001b[0m\u001b[0m\n\u001b[0m\u001b[0;32m    258\u001b[0m \u001b[1;33m\u001b[0m\u001b[0m\n\u001b[0;32m    259\u001b[0m         \u001b[0mn_features\u001b[0m \u001b[1;33m=\u001b[0m \u001b[0mself\u001b[0m\u001b[1;33m.\u001b[0m\u001b[0mcoef_\u001b[0m\u001b[1;33m.\u001b[0m\u001b[0mshape\u001b[0m\u001b[1;33m[\u001b[0m\u001b[1;36m1\u001b[0m\u001b[1;33m]\u001b[0m\u001b[1;33m\u001b[0m\u001b[1;33m\u001b[0m\u001b[0m\n",
      "\u001b[1;32m~\\Anaconda3\\lib\\site-packages\\sklearn\\utils\\validation.py\u001b[0m in \u001b[0;36mcheck_array\u001b[1;34m(array, accept_sparse, accept_large_sparse, dtype, order, copy, force_all_finite, ensure_2d, allow_nd, ensure_min_samples, ensure_min_features, warn_on_dtype, estimator)\u001b[0m\n\u001b[0;32m    565\u001b[0m         \u001b[1;31m# make sure we actually converted to numeric:\u001b[0m\u001b[1;33m\u001b[0m\u001b[1;33m\u001b[0m\u001b[1;33m\u001b[0m\u001b[0m\n\u001b[0;32m    566\u001b[0m         \u001b[1;32mif\u001b[0m \u001b[0mdtype_numeric\u001b[0m \u001b[1;32mand\u001b[0m \u001b[0marray\u001b[0m\u001b[1;33m.\u001b[0m\u001b[0mdtype\u001b[0m\u001b[1;33m.\u001b[0m\u001b[0mkind\u001b[0m \u001b[1;33m==\u001b[0m \u001b[1;34m\"O\"\u001b[0m\u001b[1;33m:\u001b[0m\u001b[1;33m\u001b[0m\u001b[1;33m\u001b[0m\u001b[0m\n\u001b[1;32m--> 567\u001b[1;33m             \u001b[0marray\u001b[0m \u001b[1;33m=\u001b[0m \u001b[0marray\u001b[0m\u001b[1;33m.\u001b[0m\u001b[0mastype\u001b[0m\u001b[1;33m(\u001b[0m\u001b[0mnp\u001b[0m\u001b[1;33m.\u001b[0m\u001b[0mfloat64\u001b[0m\u001b[1;33m)\u001b[0m\u001b[1;33m\u001b[0m\u001b[1;33m\u001b[0m\u001b[0m\n\u001b[0m\u001b[0;32m    568\u001b[0m         \u001b[1;32mif\u001b[0m \u001b[1;32mnot\u001b[0m \u001b[0mallow_nd\u001b[0m \u001b[1;32mand\u001b[0m \u001b[0marray\u001b[0m\u001b[1;33m.\u001b[0m\u001b[0mndim\u001b[0m \u001b[1;33m>=\u001b[0m \u001b[1;36m3\u001b[0m\u001b[1;33m:\u001b[0m\u001b[1;33m\u001b[0m\u001b[1;33m\u001b[0m\u001b[0m\n\u001b[0;32m    569\u001b[0m             raise ValueError(\"Found array with dim %d. %s expected <= 2.\"\n",
      "\u001b[1;31mValueError\u001b[0m: could not convert string to float: 'action/adventure'"
     ]
    }
   ],
   "source": [
    "X_holdout['genre'] = clf.predict(X_holdout)"
   ]
  },
  {
   "cell_type": "code",
   "execution_count": 162,
   "metadata": {},
   "outputs": [
    {
     "data": {
      "text/html": [
       "<div>\n",
       "<style scoped>\n",
       "    .dataframe tbody tr th:only-of-type {\n",
       "        vertical-align: middle;\n",
       "    }\n",
       "\n",
       "    .dataframe tbody tr th {\n",
       "        vertical-align: top;\n",
       "    }\n",
       "\n",
       "    .dataframe thead th {\n",
       "        text-align: right;\n",
       "    }\n",
       "</style>\n",
       "<table border=\"1\" class=\"dataframe\">\n",
       "  <thead>\n",
       "    <tr style=\"text-align: right;\">\n",
       "      <th></th>\n",
       "      <th>count</th>\n",
       "      <th>percent total</th>\n",
       "    </tr>\n",
       "  </thead>\n",
       "  <tbody>\n",
       "    <tr>\n",
       "      <th>documentary</th>\n",
       "      <td>194</td>\n",
       "      <td>30.891720</td>\n",
       "    </tr>\n",
       "    <tr>\n",
       "      <th>reality</th>\n",
       "      <td>122</td>\n",
       "      <td>19.426752</td>\n",
       "    </tr>\n",
       "    <tr>\n",
       "      <th>comedy</th>\n",
       "      <td>81</td>\n",
       "      <td>12.898089</td>\n",
       "    </tr>\n",
       "    <tr>\n",
       "      <th>crime</th>\n",
       "      <td>66</td>\n",
       "      <td>10.509554</td>\n",
       "    </tr>\n",
       "    <tr>\n",
       "      <th>action/adventure</th>\n",
       "      <td>41</td>\n",
       "      <td>6.528662</td>\n",
       "    </tr>\n",
       "    <tr>\n",
       "      <th>talk</th>\n",
       "      <td>40</td>\n",
       "      <td>6.369427</td>\n",
       "    </tr>\n",
       "    <tr>\n",
       "      <th>drama</th>\n",
       "      <td>22</td>\n",
       "      <td>3.503185</td>\n",
       "    </tr>\n",
       "    <tr>\n",
       "      <th>sports</th>\n",
       "      <td>16</td>\n",
       "      <td>2.547771</td>\n",
       "    </tr>\n",
       "    <tr>\n",
       "      <th>business</th>\n",
       "      <td>16</td>\n",
       "      <td>2.547771</td>\n",
       "    </tr>\n",
       "    <tr>\n",
       "      <th>family</th>\n",
       "      <td>14</td>\n",
       "      <td>2.229299</td>\n",
       "    </tr>\n",
       "    <tr>\n",
       "      <th>food</th>\n",
       "      <td>6</td>\n",
       "      <td>0.955414</td>\n",
       "    </tr>\n",
       "    <tr>\n",
       "      <th>music</th>\n",
       "      <td>4</td>\n",
       "      <td>0.636943</td>\n",
       "    </tr>\n",
       "    <tr>\n",
       "      <th>suspense/thriller</th>\n",
       "      <td>3</td>\n",
       "      <td>0.477707</td>\n",
       "    </tr>\n",
       "    <tr>\n",
       "      <th>fantasy</th>\n",
       "      <td>2</td>\n",
       "      <td>0.318471</td>\n",
       "    </tr>\n",
       "    <tr>\n",
       "      <th>newscast</th>\n",
       "      <td>1</td>\n",
       "      <td>0.159236</td>\n",
       "    </tr>\n",
       "  </tbody>\n",
       "</table>\n",
       "</div>"
      ],
      "text/plain": [
       "                   count  percent total\n",
       "documentary          194      30.891720\n",
       "reality              122      19.426752\n",
       "comedy                81      12.898089\n",
       "crime                 66      10.509554\n",
       "action/adventure      41       6.528662\n",
       "talk                  40       6.369427\n",
       "drama                 22       3.503185\n",
       "sports                16       2.547771\n",
       "business              16       2.547771\n",
       "family                14       2.229299\n",
       "food                   6       0.955414\n",
       "music                  4       0.636943\n",
       "suspense/thriller      3       0.477707\n",
       "fantasy                2       0.318471\n",
       "newscast               1       0.159236"
      ]
     },
     "execution_count": 162,
     "metadata": {},
     "output_type": "execute_result"
    }
   ],
   "source": [
    "counts = X_holdout['genre'].value_counts().rename('count')\n",
    "percents = X_holdout['genre'].value_counts().rename('percent total') / X_holdout.shape[0]  * 100\n",
    "pd.concat([counts, percents], axis=1)"
   ]
  },
  {
   "cell_type": "markdown",
   "metadata": {},
   "source": [
    "Our model really likes documentary and reality, which is interesting. Let's see if that corresponds to what the data thinks."
   ]
  },
  {
   "cell_type": "code",
   "execution_count": 164,
   "metadata": {},
   "outputs": [
    {
     "data": {
      "text/html": [
       "<div>\n",
       "<style scoped>\n",
       "    .dataframe tbody tr th:only-of-type {\n",
       "        vertical-align: middle;\n",
       "    }\n",
       "\n",
       "    .dataframe tbody tr th {\n",
       "        vertical-align: top;\n",
       "    }\n",
       "\n",
       "    .dataframe thead th {\n",
       "        text-align: right;\n",
       "    }\n",
       "</style>\n",
       "<table border=\"1\" class=\"dataframe\">\n",
       "  <thead>\n",
       "    <tr style=\"text-align: right;\">\n",
       "      <th></th>\n",
       "      <th>count</th>\n",
       "      <th>percent total</th>\n",
       "    </tr>\n",
       "  </thead>\n",
       "  <tbody>\n",
       "    <tr>\n",
       "      <th>sports</th>\n",
       "      <td>510</td>\n",
       "      <td>18.220793</td>\n",
       "    </tr>\n",
       "    <tr>\n",
       "      <th>comedy</th>\n",
       "      <td>408</td>\n",
       "      <td>14.576635</td>\n",
       "    </tr>\n",
       "    <tr>\n",
       "      <th>reality</th>\n",
       "      <td>308</td>\n",
       "      <td>11.003930</td>\n",
       "    </tr>\n",
       "    <tr>\n",
       "      <th>documentary</th>\n",
       "      <td>270</td>\n",
       "      <td>9.646302</td>\n",
       "    </tr>\n",
       "    <tr>\n",
       "      <th>drama</th>\n",
       "      <td>261</td>\n",
       "      <td>9.324759</td>\n",
       "    </tr>\n",
       "    <tr>\n",
       "      <th>action/adventure</th>\n",
       "      <td>217</td>\n",
       "      <td>7.752769</td>\n",
       "    </tr>\n",
       "    <tr>\n",
       "      <th>crime</th>\n",
       "      <td>194</td>\n",
       "      <td>6.931047</td>\n",
       "    </tr>\n",
       "    <tr>\n",
       "      <th>food</th>\n",
       "      <td>154</td>\n",
       "      <td>5.501965</td>\n",
       "    </tr>\n",
       "    <tr>\n",
       "      <th>talk</th>\n",
       "      <td>112</td>\n",
       "      <td>4.001429</td>\n",
       "    </tr>\n",
       "    <tr>\n",
       "      <th>family</th>\n",
       "      <td>75</td>\n",
       "      <td>2.679528</td>\n",
       "    </tr>\n",
       "    <tr>\n",
       "      <th>game show</th>\n",
       "      <td>53</td>\n",
       "      <td>1.893533</td>\n",
       "    </tr>\n",
       "    <tr>\n",
       "      <th>newscast</th>\n",
       "      <td>49</td>\n",
       "      <td>1.750625</td>\n",
       "    </tr>\n",
       "    <tr>\n",
       "      <th>business</th>\n",
       "      <td>47</td>\n",
       "      <td>1.679171</td>\n",
       "    </tr>\n",
       "    <tr>\n",
       "      <th>travel</th>\n",
       "      <td>38</td>\n",
       "      <td>1.357628</td>\n",
       "    </tr>\n",
       "    <tr>\n",
       "      <th>history</th>\n",
       "      <td>22</td>\n",
       "      <td>0.785995</td>\n",
       "    </tr>\n",
       "    <tr>\n",
       "      <th>fantasy</th>\n",
       "      <td>19</td>\n",
       "      <td>0.678814</td>\n",
       "    </tr>\n",
       "    <tr>\n",
       "      <th>music</th>\n",
       "      <td>19</td>\n",
       "      <td>0.678814</td>\n",
       "    </tr>\n",
       "    <tr>\n",
       "      <th>western</th>\n",
       "      <td>9</td>\n",
       "      <td>0.321543</td>\n",
       "    </tr>\n",
       "    <tr>\n",
       "      <th>suspense/thriller</th>\n",
       "      <td>8</td>\n",
       "      <td>0.285816</td>\n",
       "    </tr>\n",
       "    <tr>\n",
       "      <th>sci-fi</th>\n",
       "      <td>7</td>\n",
       "      <td>0.250089</td>\n",
       "    </tr>\n",
       "    <tr>\n",
       "      <th>romance</th>\n",
       "      <td>6</td>\n",
       "      <td>0.214362</td>\n",
       "    </tr>\n",
       "    <tr>\n",
       "      <th>biography</th>\n",
       "      <td>6</td>\n",
       "      <td>0.214362</td>\n",
       "    </tr>\n",
       "    <tr>\n",
       "      <th>horror</th>\n",
       "      <td>5</td>\n",
       "      <td>0.178635</td>\n",
       "    </tr>\n",
       "    <tr>\n",
       "      <th>mystery</th>\n",
       "      <td>1</td>\n",
       "      <td>0.035727</td>\n",
       "    </tr>\n",
       "    <tr>\n",
       "      <th>war</th>\n",
       "      <td>1</td>\n",
       "      <td>0.035727</td>\n",
       "    </tr>\n",
       "  </tbody>\n",
       "</table>\n",
       "</div>"
      ],
      "text/plain": [
       "                   count  percent total\n",
       "sports               510      18.220793\n",
       "comedy               408      14.576635\n",
       "reality              308      11.003930\n",
       "documentary          270       9.646302\n",
       "drama                261       9.324759\n",
       "action/adventure     217       7.752769\n",
       "crime                194       6.931047\n",
       "food                 154       5.501965\n",
       "talk                 112       4.001429\n",
       "family                75       2.679528\n",
       "game show             53       1.893533\n",
       "newscast              49       1.750625\n",
       "business              47       1.679171\n",
       "travel                38       1.357628\n",
       "history               22       0.785995\n",
       "fantasy               19       0.678814\n",
       "music                 19       0.678814\n",
       "western                9       0.321543\n",
       "suspense/thriller      8       0.285816\n",
       "sci-fi                 7       0.250089\n",
       "romance                6       0.214362\n",
       "biography              6       0.214362\n",
       "horror                 5       0.178635\n",
       "mystery                1       0.035727\n",
       "war                    1       0.035727"
      ]
     },
     "execution_count": 164,
     "metadata": {},
     "output_type": "execute_result"
    }
   ],
   "source": [
    "counts = data_categorized['genre'].value_counts().rename('count')\n",
    "percents = data_categorized['genre'].value_counts().rename('percent total') / data_categorized.shape[0]  * 100\n",
    "pd.concat([counts, percents], axis=1)"
   ]
  },
  {
   "cell_type": "markdown",
   "metadata": {},
   "source": [
    "Not entirely surprising given those numbers, although sports are a little low."
   ]
  },
  {
   "cell_type": "code",
   "execution_count": 49,
   "metadata": {},
   "outputs": [],
   "source": [
    "frames = [y_train, X_test['genre']]\n",
    "df_genre_2 = pd.concat(frames, axis=0)"
   ]
  },
  {
   "cell_type": "code",
   "execution_count": 50,
   "metadata": {},
   "outputs": [],
   "source": [
    "frames = [df_genre_1.rename(columns={'genre':'genre_1'}),\n",
    "          df_genre_2.rename(columns={'genre':'genre_2'}),\n",
    "          df_series.loc[:, genres]]\n",
    "df_genre = (pd.concat(frames, axis=1, join='outer')\n",
    "            .rename(columns={0: 'genre_2'}))\n",
    "df_genre.to_excel(r'Data/genres.xlsx')"
   ]
  },
  {
   "cell_type": "markdown",
   "metadata": {},
   "source": [
    "### Subgenre\n",
    "\n",
    "For subgenre, we will have the _Sports_ genres to have the highest word count be that subgenre"
   ]
  },
  {
   "cell_type": "code",
   "execution_count": 89,
   "metadata": {},
   "outputs": [],
   "source": [
    "cols = ['series_id', 'series_name']\n",
    "exc_subgenre_sports_words = ['classic sports', 'sports', 'sports stuff']\n",
    "sports_word_mask = df_words.word.isin(sports) & ~df_words.word.isin(exc_subgenre_sports_words)\n",
    "sports_series = (df_words.loc[sports_word_mask, ]\n",
    "                 .pipe(row_number, ['series_id', 'series_name'], ['count'], [True, True, False])\n",
    "                 .query('rank == 1')\n",
    "                 .rename(columns={'word': 'genre'})\n",
    "                 .drop(['count', 'rank'], axis=1))"
   ]
  },
  {
   "cell_type": "code",
   "execution_count": 90,
   "metadata": {},
   "outputs": [],
   "source": [
    "non_sports_mask = ~df_words.series_id.isin(sports_series.series_id.unique().tolist())\n",
    "genre_word_mask = df_words.word.isin(genres)\n",
    "dims = ['series_id', 'series_name', 'word']\n",
    "measures = ['count']\n",
    "non_sports_series = (df_words.loc[non_sports_mask & genre_word_mask, ]\n",
    "                     .drop('rank', axis=1)\n",
    "                     .pipe(row_number, ['series_id', 'series_name'], ['count'], [True, True, False])\n",
    "                     .query('rank == 2')\n",
    "                     .rename(columns={'word': 'genre'})\n",
    "                     .drop(['count', 'rank'], axis=1))"
   ]
  },
  {
   "cell_type": "code",
   "execution_count": 91,
   "metadata": {},
   "outputs": [],
   "source": [
    "categorized_series_ids = sports_series.series_id.tolist() + non_sports_series.series_id.tolist()\n",
    "uncategorized_mask = ~df_words.series_id.isin(categorized_series_ids)\n",
    "cols = ['series_id', 'series_name']\n",
    "uncategorized_series = (df_words.loc[uncategorized_mask, cols]\n",
    "                        .drop_duplicates()\n",
    "                        .assign(genre='uncategorized'))"
   ]
  },
  {
   "cell_type": "code",
   "execution_count": 92,
   "metadata": {},
   "outputs": [],
   "source": [
    "join_cols = ['series_id', 'series_name']\n",
    "frames = [sports_series, non_sports_series, uncategorized_series]\n",
    "df_subgenre = pd.concat(frames, axis=0).set_index(join_cols)"
   ]
  },
  {
   "cell_type": "code",
   "execution_count": 93,
   "metadata": {},
   "outputs": [
    {
     "name": "stdout",
     "output_type": "stream",
     "text": [
      "There are 1,861 undefined subgenres\n"
     ]
    }
   ],
   "source": [
    "print(\"There are {:,d} undefined subgenres\".format(uncategorized_series.shape[0]))"
   ]
  },
  {
   "cell_type": "markdown",
   "metadata": {},
   "source": [
    "##### Subgenre Logistic Regression"
   ]
  },
  {
   "cell_type": "code",
   "execution_count": 47,
   "metadata": {},
   "outputs": [],
   "source": [
    "join_cols = ['series_id', 'series_name']\n",
    "data = df_series.join(df_genre_2_temp)\n",
    "data_uncategorized = data.query('genre == \"uncategorized\" or genre != genre')\n",
    "data_categorized = data.query('genre != \"uncategorized\" and genre == genre')\n",
    "X_train = data_categorized.drop('genre', axis=1)\n",
    "y_train = data_categorized.genre\n",
    "X_test = data_uncategorized.drop('genre', axis=1)"
   ]
  },
  {
   "cell_type": "code",
   "execution_count": 48,
   "metadata": {},
   "outputs": [
    {
     "data": {
      "text/plain": [
       "series_id  series_name              \n",
       "903640659  Lilo & Stitch                fantasy\n",
       "903715925  ET Entertainment Tonight        talk\n",
       "903754146  TMZ Live                        talk\n",
       "903813665  Truck Tech                    sports\n",
       "903824862  Infinity Hall Live            sports\n",
       "903953590  Xtreme Off Road               sports\n",
       "904008381  Barney & Friends              sports\n",
       "904072296  El precio de la historia      sports\n",
       "904103978  Engine Power                  sports\n",
       "904142084  Wimbledon                     sports\n",
       "904148857  House Hunters Renovation     reality\n",
       "904219114  My Haunted House              sports\n",
       "904271597  Building Alaska              reality\n",
       "904279590  Mofy                         fantasy\n",
       "904374404  Rescue Renovation            reality\n",
       "904415040  The Art Of                    sports\n",
       "904515820  Hot 20 Countdown              sports\n",
       "904558963  Live Big With Ali Vincent     sports\n",
       "904561999  WordGirl                     fantasy\n",
       "904591671  Curious George                sports\n",
       "Name: genre, dtype: object"
      ]
     },
     "execution_count": 48,
     "metadata": {},
     "output_type": "execute_result"
    }
   ],
   "source": [
    "clf_subgenre = LogisticRegression(random_state=0, solver='lbfgs', multi_class='multinomial').fit(X_train, y_train)\n",
    "X_test['subgenre'] = clf.predict(X_test)\n",
    "X_test['genre'].head(20)"
   ]
  },
  {
   "cell_type": "markdown",
   "metadata": {},
   "source": [
    "#### Final Algorithm Methodology\n",
    "\n",
    "1. Define a set list of possible genres (I pulled this from the IMDb list linked in the notebook with some adjustments described in the notebook). \n",
    "2. Define a list of _Sports_ words. If a series has that sport word in it, we'll then classify it as a _Sports_ series. \n",
    "3. If not a _Sports_ series, pick the most frequently occurring genre from our list as the series' genre.\n",
    "4. If still unclassified, use a logistic regression model trained on the categorized data's word frequency per series."
   ]
  },
  {
   "cell_type": "markdown",
   "metadata": {},
   "source": [
    "### Question 2"
   ]
  },
  {
   "cell_type": "markdown",
   "metadata": {},
   "source": [
    "2. _What are your primary considerations in reaching this assignment?_\n",
    "\n",
    "The initial consideration would be to set a list of acceptable genres. As we discussed last Thursday, we can assume that the list of genres is fixed and new ones will not be added. By specifying this list we will be able to determine whether each entry has at least been bucketing into one of the acceptable values.\n",
    "\n",
    "We would then be to find the ones that don't fit into that list to see what we are left with. Dealing with these uncategorized values would be our second consideration. As discussed above, I choose to use a logistic regression model to classify these series'.\n",
    "\n",
    "Another consideration would be whether or not to set some threshold count number for designating whether a series is actually that genre. For example, if a series has \"comedy\" across every episode, making the count very high, we can be more certain that the series is that genre. On the other side, if a show only has \"comedy\" show up once across 50 episodes, we would not want to categorize that show as a comedy.\n",
    "\n",
    "Finaly, we would want to make sure whatever process we put in place is able to be automated. This means it will correctly bucket new series', and, if necessary, flag errors to us when it is unable to figure out to which bucket an entry belongs. This will be discussed more heavily in _Question 5_ though."
   ]
  },
  {
   "cell_type": "markdown",
   "metadata": {},
   "source": [
    "### Question 3"
   ]
  },
  {
   "cell_type": "markdown",
   "metadata": {},
   "source": [
    "3. _Is there a hierarchy that can be inferred from the remaining unstructured information that is provided?_\n",
    "\n",
    "Yes, for example, I have added a sport type column for an additional level of granularity within sports. Additionally, after successfully obtaining genre, the next step would be to add subgenres and other levels of granularity within each genre like we did for sports."
   ]
  },
  {
   "cell_type": "markdown",
   "metadata": {},
   "source": [
    "### Question 4"
   ]
  },
  {
   "cell_type": "markdown",
   "metadata": {},
   "source": [
    "4. _What other data can be extracted that might be of use to clients looking to analyze TV performance?_\n",
    "\n",
    "Some new features we could easily build: \n",
    "* Sport type\n",
    "* Dayparting (hours, prime vs non-prime)\n",
    "* Network (we would have to join this though if we had an additional dataset)\n",
    "* Pilot dummy variable\n",
    "\n",
    "Part of the issue for genres here seems to be a garbage-in, garbage-out data problem. My opinion is that it would then be worth developing a web scraper for each title to create a new features, as we discussed on Thursday. This would only take a few days to put together."
   ]
  },
  {
   "cell_type": "markdown",
   "metadata": {},
   "source": [
    "### Question 5"
   ]
  },
  {
   "cell_type": "markdown",
   "metadata": {},
   "source": [
    "5. _How would your approach differ if you were to approach this as a one-time analytical exercise vs. an ongoing data processing need?_\n",
    "\n",
    "Overall, my approach wouldn't change drastically but would involve making the above process into python scripts run daily on an EC2 instance. My main focus for an ongoing data processing need would be to build an agile system for validation. This would involve having some notification system for new series' that come into the data either in email format, a tableau dashboard or a simple web server we could continuously check.\n",
    "\n",
    "Another part of the process I would adjust is adding more preprocessing to the words. We could make adjustments in the data like changing \"business-finance\" to \"business\" and other common substitutions for a cleaner dataset.\n",
    "\n",
    "As described in Question 4, we would also want to build an alternate system using a web scraper to validate whatever process we would put in place. By having multiple checks we could be more comfortable with this data going out to clients"
   ]
  }
 ],
 "metadata": {
  "kernelspec": {
   "display_name": "Python 3",
   "language": "python",
   "name": "python3"
  },
  "language_info": {
   "codemirror_mode": {
    "name": "ipython",
    "version": 3
   },
   "file_extension": ".py",
   "mimetype": "text/x-python",
   "name": "python",
   "nbconvert_exporter": "python",
   "pygments_lexer": "ipython3",
   "version": "3.7.3"
  }
 },
 "nbformat": 4,
 "nbformat_minor": 2
}
