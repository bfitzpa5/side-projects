{
 "cells": [
  {
   "cell_type": "code",
   "execution_count": 1,
   "metadata": {},
   "outputs": [],
   "source": [
    "import pandas as pd\n",
    "from bs4 import BeautifulSoup\n",
    "import requests\n",
    "import json"
   ]
  },
  {
   "cell_type": "code",
   "execution_count": 2,
   "metadata": {},
   "outputs": [],
   "source": [
    "class Boxer:\n",
    "    \n",
    "    fight_url_base = 'https://boxrec.com/en/proboxer/{id}'\n",
    "    \n",
    "    \n",
    "    def __init__(self, name, id, fight_urls=None):\n",
    "        self.name = name\n",
    "        self.id = id\n",
    "        self.fight_urls = fight_urls if fight_urls else list()\n",
    "        \n",
    "    def scrape_urls(self):\n",
    "        boxer_url = Boxer.fight_url_base.format(id=self.id)\n",
    "        print(boxer_url)\n",
    "        response = requests.get(boxer_url)\n",
    "        assert(response.status_code == 200)\n",
    "        soup = BeautifulSoup(response.text, 'html.parser')\n",
    "        for node in soup.find_all('div', class_='boutP'):\n",
    "            href = node.parent.get('href')\n",
    "            self.fight_urls.append(href)\n",
    "        "
   ]
  },
  {
   "cell_type": "code",
   "execution_count": 3,
   "metadata": {},
   "outputs": [
    {
     "name": "stdout",
     "output_type": "stream",
     "text": [
      "https://boxrec.com/en/proboxer/479205\n",
      "https://boxrec.com/en/proboxer/468841\n"
     ]
    }
   ],
   "source": [
    "fury = Boxer('Tyson Fury', 479205)\n",
    "fury.scrape_urls()\n",
    "wilder = Boxer('Deontay Wilder', 468841)\n",
    "wilder.scrape_urls()"
   ]
  },
  {
   "cell_type": "code",
   "execution_count": 4,
   "metadata": {},
   "outputs": [],
   "source": [
    "fight_urls = list()\n",
    "boxer_url = 'https://boxrec.com/en/proboxer/468841'\n",
    "response = requests.get(boxer_url)\n",
    "assert(response.status_code == 200)\n",
    "soup = BeautifulSoup(response.text, 'html.parser')\n",
    "for node in soup.find_all('div', class_='boutP'):\n",
    "    href = node.parent.get('href')\n",
    "    fight_urls.append(href)"
   ]
  },
  {
   "cell_type": "code",
   "execution_count": 5,
   "metadata": {},
   "outputs": [],
   "source": [
    "LOGIN_URL = 'https://boxrec.com/en/login'\n",
    "REQUEST_URL = 'https://boxrec.com/en/proboxer/468841'\n",
    "session = requests.Session()\n",
    "session.headers.update({'User-Agent': \"myapp1,0\"})\n",
    "username = 'fitzfury'\n",
    "password = 'nyrGlass#15'\n",
    "mydata = json.dumps({'_username': username,'_password': password})\n",
    "response = session.post(LOGIN_URL,data=mydata)\n",
    "session.close()"
   ]
  }
 ],
 "metadata": {
  "kernelspec": {
   "display_name": "Python 3",
   "language": "python",
   "name": "python3"
  },
  "language_info": {
   "codemirror_mode": {
    "name": "ipython",
    "version": 3
   },
   "file_extension": ".py",
   "mimetype": "text/x-python",
   "name": "python",
   "nbconvert_exporter": "python",
   "pygments_lexer": "ipython3",
   "version": "3.7.6"
  }
 },
 "nbformat": 4,
 "nbformat_minor": 4
}
