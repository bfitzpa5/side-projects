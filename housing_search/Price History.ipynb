{
 "cells": [
  {
   "cell_type": "code",
   "execution_count": 1,
   "id": "c5d04a71-8a0d-4dd0-859b-92758ce705d3",
   "metadata": {},
   "outputs": [],
   "source": [
    "import re\n",
    "from pathlib import Path\n",
    "import pandas as pd"
   ]
  },
  {
   "cell_type": "markdown",
   "id": "af33040c-e025-4a38-911d-994487ba3124",
   "metadata": {},
   "source": [
    "# Price History"
   ]
  },
  {
   "cell_type": "code",
   "execution_count": 9,
   "id": "041ac378-1eaa-4fc3-b30f-819e2c28ed08",
   "metadata": {},
   "outputs": [],
   "source": [
    "filename = Path('.') / 'price_history.txt'\n",
    "with open(filename) as f:\n",
    "    price_history = f.read()"
   ]
  },
  {
   "cell_type": "code",
   "execution_count": 10,
   "id": "88ee298c-be68-4072-81fb-c6d383778ed0",
   "metadata": {},
   "outputs": [],
   "source": [
    "lines = line = price_history.splitlines()\n",
    "pat = r'(\\d{1,2}/\\d{1,2}/\\d{4})\\t(.+)'\n",
    "i, n = 0, len(price_history.splitlines())\n",
    "\n",
    "records = []\n",
    "\n",
    "while i < n:\n",
    "    line = lines[i]\n",
    "    m = re.match(pat, line)\n",
    "    if m:\n",
    "        dt, change_type = m.groups()\n",
    "        i += 1\n",
    "        price = lines[i]\n",
    "        records.append([dt, change_type, price])\n",
    "    i += 1"
   ]
  },
  {
   "cell_type": "code",
   "execution_count": 11,
   "id": "a983bbad-34cc-4d24-b19d-364fcb952c2c",
   "metadata": {},
   "outputs": [
    {
     "name": "stdout",
     "output_type": "stream",
     "text": [
      "date,change_type,price\n",
      "5/11/2024,Price change,\"$499,000\"\n",
      "4/19/2024,Listed for sale,\"$525,000\"\n",
      "10/1/2014,Listing removed,\"$225,000\"\n",
      "5/22/2014,Listed for sale,\"$225,000\"\n",
      "5/11/2008,Listing removed,\"$175,000\"\n",
      "\n"
     ]
    }
   ],
   "source": [
    "print(pd.DataFrame(records, columns=['date', 'change_type', 'price']).to_csv(index=False))"
   ]
  },
  {
   "cell_type": "markdown",
   "id": "580c64b5-27c5-4985-84dd-9db9a8761baf",
   "metadata": {},
   "source": [
    "# Tax History"
   ]
  },
  {
   "cell_type": "code",
   "execution_count": 25,
   "id": "91408652-a777-4ccd-9401-8eff9f62e30d",
   "metadata": {},
   "outputs": [
    {
     "data": {
      "text/html": [
       "<div>\n",
       "<style scoped>\n",
       "    .dataframe tbody tr th:only-of-type {\n",
       "        vertical-align: middle;\n",
       "    }\n",
       "\n",
       "    .dataframe tbody tr th {\n",
       "        vertical-align: top;\n",
       "    }\n",
       "\n",
       "    .dataframe thead th {\n",
       "        text-align: right;\n",
       "    }\n",
       "</style>\n",
       "<table border=\"1\" class=\"dataframe\">\n",
       "  <thead>\n",
       "    <tr style=\"text-align: right;\">\n",
       "      <th></th>\n",
       "      <th>year</th>\n",
       "      <th>property_taxes</th>\n",
       "      <th>tax_assessment</th>\n",
       "    </tr>\n",
       "  </thead>\n",
       "  <tbody>\n",
       "    <tr>\n",
       "      <th>0</th>\n",
       "      <td>2023</td>\n",
       "      <td>$7,581 -3.7%</td>\n",
       "      <td>$419,024</td>\n",
       "    </tr>\n",
       "    <tr>\n",
       "      <th>1</th>\n",
       "      <td>2022</td>\n",
       "      <td>$7,875</td>\n",
       "      <td>$461,178</td>\n",
       "    </tr>\n",
       "    <tr>\n",
       "      <th>2</th>\n",
       "      <td>2021</td>\n",
       "      <td>--</td>\n",
       "      <td>$235,592</td>\n",
       "    </tr>\n",
       "    <tr>\n",
       "      <th>3</th>\n",
       "      <td>2020</td>\n",
       "      <td>$4,424 +3.8%</td>\n",
       "      <td>$198,700</td>\n",
       "    </tr>\n",
       "    <tr>\n",
       "      <th>4</th>\n",
       "      <td>2019</td>\n",
       "      <td>$4,262 +19%</td>\n",
       "      <td>$199,747</td>\n",
       "    </tr>\n",
       "    <tr>\n",
       "      <th>5</th>\n",
       "      <td>2018</td>\n",
       "      <td>$3,580</td>\n",
       "      <td>$187,936</td>\n",
       "    </tr>\n",
       "    <tr>\n",
       "      <th>6</th>\n",
       "      <td>2017</td>\n",
       "      <td>$3,580 +30.2%</td>\n",
       "      <td>$161,707</td>\n",
       "    </tr>\n",
       "    <tr>\n",
       "      <th>7</th>\n",
       "      <td>2016</td>\n",
       "      <td>$2,750</td>\n",
       "      <td>$140,141</td>\n",
       "    </tr>\n",
       "    <tr>\n",
       "      <th>8</th>\n",
       "      <td>2015</td>\n",
       "      <td>$2,750</td>\n",
       "      <td>$117,943</td>\n",
       "    </tr>\n",
       "    <tr>\n",
       "      <th>9</th>\n",
       "      <td>2014</td>\n",
       "      <td>$2,750</td>\n",
       "      <td>$123,976</td>\n",
       "    </tr>\n",
       "    <tr>\n",
       "      <th>10</th>\n",
       "      <td>2013</td>\n",
       "      <td>--</td>\n",
       "      <td>$98,241</td>\n",
       "    </tr>\n",
       "    <tr>\n",
       "      <th>11</th>\n",
       "      <td>2012</td>\n",
       "      <td>--</td>\n",
       "      <td>$86,181</td>\n",
       "    </tr>\n",
       "    <tr>\n",
       "      <th>12</th>\n",
       "      <td>2011</td>\n",
       "      <td>--</td>\n",
       "      <td>$102,436</td>\n",
       "    </tr>\n",
       "    <tr>\n",
       "      <th>13</th>\n",
       "      <td>2010</td>\n",
       "      <td>--</td>\n",
       "      <td>$102,436</td>\n",
       "    </tr>\n",
       "    <tr>\n",
       "      <th>14</th>\n",
       "      <td>2009</td>\n",
       "      <td>--</td>\n",
       "      <td>$102,436</td>\n",
       "    </tr>\n",
       "    <tr>\n",
       "      <th>15</th>\n",
       "      <td>2008</td>\n",
       "      <td>--</td>\n",
       "      <td>$107,680</td>\n",
       "    </tr>\n",
       "    <tr>\n",
       "      <th>16</th>\n",
       "      <td>2007</td>\n",
       "      <td>--</td>\n",
       "      <td>$92,506</td>\n",
       "    </tr>\n",
       "    <tr>\n",
       "      <th>17</th>\n",
       "      <td>2006</td>\n",
       "      <td>--</td>\n",
       "      <td>$84,096</td>\n",
       "    </tr>\n",
       "    <tr>\n",
       "      <th>18</th>\n",
       "      <td>2005</td>\n",
       "      <td>--</td>\n",
       "      <td>$76,451</td>\n",
       "    </tr>\n",
       "  </tbody>\n",
       "</table>\n",
       "</div>"
      ],
      "text/plain": [
       "    year property_taxes tax_assessment\n",
       "0   2023   $7,581 -3.7%       $419,024\n",
       "1   2022        $7,875        $461,178\n",
       "2   2021            --        $235,592\n",
       "3   2020   $4,424 +3.8%       $198,700\n",
       "4   2019    $4,262 +19%       $199,747\n",
       "5   2018        $3,580        $187,936\n",
       "6   2017  $3,580 +30.2%       $161,707\n",
       "7   2016        $2,750        $140,141\n",
       "8   2015        $2,750        $117,943\n",
       "9   2014        $2,750        $123,976\n",
       "10  2013            --         $98,241\n",
       "11  2012            --         $86,181\n",
       "12  2011            --        $102,436\n",
       "13  2010            --        $102,436\n",
       "14  2009            --        $102,436\n",
       "15  2008            --        $107,680\n",
       "16  2007            --         $92,506\n",
       "17  2006            --         $84,096\n",
       "18  2005            --         $76,451"
      ]
     },
     "execution_count": 25,
     "metadata": {},
     "output_type": "execute_result"
    }
   ],
   "source": [
    "df"
   ]
  },
  {
   "cell_type": "markdown",
   "id": "77011ec7-4245-45e3-a657-e0ebdc842fb0",
   "metadata": {},
   "source": [
    "# Tax History"
   ]
  },
  {
   "cell_type": "code",
   "execution_count": 29,
   "id": "6a89295e-1b20-4e0e-bec2-cdb328e0aca1",
   "metadata": {},
   "outputs": [
    {
     "name": "stdout",
     "output_type": "stream",
     "text": [
      "2023,\"$7,128\",\"$394,000\"\n",
      "2022,\"$8,764\",\"$443,786\"\n",
      "2021,--,\"$319,900\"\n",
      "2020,\"$6,426\",\"$288,583\"\n",
      "2019,\"$6,190\",\"$288,583\"\n",
      "2018,\"$4,849\",\"$256,000\"\n",
      "2017,\"$4,849\",\"$219,000\"\n",
      "2016,\"$3,217\",\"$207,212\"\n",
      "2015,\"$3,217\",\"$172,219\"\n",
      "2014,\"$3,217\",\"$135,166\"\n",
      "2013,--,\"$110,276\"\n",
      "2012,--,\"$103,871\"\n",
      "2011,--,\"$103,871\"\n",
      "2010,--,\"$141,503\"\n",
      "2009,--,\"$141,503\"\n",
      "2008,--,\"$141,503\"\n",
      "2007,--,\"$131,894\"\n",
      "2006,--,\"$139,101\"\n",
      "2005,--,\"$123,436\"\n",
      "\n"
     ]
    }
   ],
   "source": [
    "filename = Path('.') / 'tax_history.txt'\n",
    "df = (pd.read_csv(filename, sep='\\t')\n",
    "      .rename(columns=lambda x: x.lower().replace(' ', '_'))\n",
    "      .assign(\n",
    "          tax_assessment=lambda x: x.tax_assessment.str.split(' ', expand=True)[0],\n",
    "          property_taxes=lambda x: x.property_taxes.str.split(' ', expand=True)[0],\n",
    "      )\n",
    ")\n",
    "print(df.to_csv(index=False, header=False))"
   ]
  }
 ],
 "metadata": {
  "kernelspec": {
   "display_name": "housing",
   "language": "python",
   "name": "housing"
  },
  "language_info": {
   "codemirror_mode": {
    "name": "ipython",
    "version": 3
   },
   "file_extension": ".py",
   "mimetype": "text/x-python",
   "name": "python",
   "nbconvert_exporter": "python",
   "pygments_lexer": "ipython3",
   "version": "3.11.5"
  }
 },
 "nbformat": 4,
 "nbformat_minor": 5
}
