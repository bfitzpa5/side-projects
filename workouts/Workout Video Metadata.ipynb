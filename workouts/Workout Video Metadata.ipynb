{
 "cells": [
  {
   "cell_type": "markdown",
   "id": "302533ab-1019-43ec-93d9-c684bd860120",
   "metadata": {},
   "source": [
    "# Workout Video Metadata\n",
    "\n",
    "[Resource Link](https://thepythoncode.com/article/extract-media-metadata-in-python)"
   ]
  },
  {
   "cell_type": "code",
   "execution_count": 4,
   "id": "aed36f4d-808b-4f8c-a22f-515158c3cd59",
   "metadata": {},
   "outputs": [],
   "source": [
    "import ffmpeg\n",
    "import sys\n",
    "from pprint import pprint\n",
    "from pathlib import Path\n",
    "\n",
    "downloads = Path.home() / 'Downloads'"
   ]
  },
  {
   "cell_type": "code",
   "execution_count": 5,
   "id": "0b66e440-83db-46cd-a609-a785935fe9bd",
   "metadata": {},
   "outputs": [],
   "source": [
    "filepath = downloads / 'GX010466.MP4'"
   ]
  },
  {
   "cell_type": "code",
   "execution_count": 9,
   "id": "fb1b6cc2-ce92-41f3-8a9b-9b5130413e31",
   "metadata": {},
   "outputs": [
    {
     "data": {
      "text/plain": [
       "list"
      ]
     },
     "execution_count": 9,
     "metadata": {},
     "output_type": "execute_result"
    }
   ],
   "source": [
    "metadata = ffmpeg.probe(filepath)[\"streams\"]\n",
    "type(metadata)"
   ]
  },
  {
   "cell_type": "code",
   "execution_count": 11,
   "id": "6e8c66f4-bfe4-4b10-9eaa-c7bdae352a9e",
   "metadata": {},
   "outputs": [
    {
     "name": "stdout",
     "output_type": "stream",
     "text": [
      "{'avg_frame_rate': '30000/1001',\n",
      " 'bit_rate': '26132280',\n",
      " 'chroma_location': 'left',\n",
      " 'closed_captions': 0,\n",
      " 'codec_long_name': 'H.265 / HEVC (High Efficiency Video Coding)',\n",
      " 'codec_name': 'hevc',\n",
      " 'codec_tag': '0x31637668',\n",
      " 'codec_tag_string': 'hvc1',\n",
      " 'codec_type': 'video',\n",
      " 'coded_height': 1080,\n",
      " 'coded_width': 1920,\n",
      " 'color_primaries': 'bt709',\n",
      " 'color_range': 'pc',\n",
      " 'color_space': 'bt709',\n",
      " 'color_transfer': 'bt709',\n",
      " 'display_aspect_ratio': '16:9',\n",
      " 'disposition': {'attached_pic': 0,\n",
      "                 'captions': 0,\n",
      "                 'clean_effects': 0,\n",
      "                 'comment': 0,\n",
      "                 'default': 1,\n",
      "                 'dependent': 0,\n",
      "                 'descriptions': 0,\n",
      "                 'dub': 0,\n",
      "                 'forced': 0,\n",
      "                 'hearing_impaired': 0,\n",
      "                 'karaoke': 0,\n",
      "                 'lyrics': 0,\n",
      "                 'metadata': 0,\n",
      "                 'non_diegetic': 0,\n",
      "                 'original': 0,\n",
      "                 'still_image': 0,\n",
      "                 'timed_thumbnails': 0,\n",
      "                 'visual_impaired': 0},\n",
      " 'duration': '55.855800',\n",
      " 'duration_ts': 1675674,\n",
      " 'extradata_size': 121,\n",
      " 'film_grain': 0,\n",
      " 'has_b_frames': 0,\n",
      " 'height': 1080,\n",
      " 'id': '0x1',\n",
      " 'index': 0,\n",
      " 'level': 153,\n",
      " 'nb_frames': '1674',\n",
      " 'pix_fmt': 'yuvj420p',\n",
      " 'profile': 'Main',\n",
      " 'r_frame_rate': '30000/1001',\n",
      " 'refs': 1,\n",
      " 'sample_aspect_ratio': '1:1',\n",
      " 'start_pts': 0,\n",
      " 'start_time': '0.000000',\n",
      " 'tags': {'creation_time': '2023-05-15T19:11:45.000000Z',\n",
      "          'encoder': 'GoPro H.265 encoder',\n",
      "          'handler_name': '\\x0bGoPro H.265',\n",
      "          'language': 'eng',\n",
      "          'timecode': '19:10:36:00',\n",
      "          'vendor_id': '[0][0][0][0]'},\n",
      " 'time_base': '1/30000',\n",
      " 'width': 1920}\n"
     ]
    }
   ],
   "source": [
    "pprint(metadata[0])"
   ]
  },
  {
   "cell_type": "code",
   "execution_count": 12,
   "id": "55652f02-0689-4752-90cf-8d97c8e812ca",
   "metadata": {},
   "outputs": [
    {
     "data": {
      "text/plain": [
       "'2023-05-15T19:11:45.000000Z'"
      ]
     },
     "execution_count": 12,
     "metadata": {},
     "output_type": "execute_result"
    }
   ],
   "source": [
    "metadata[0]['tags']['creation_time']"
   ]
  }
 ],
 "metadata": {
  "kernelspec": {
   "display_name": "workouts",
   "language": "python",
   "name": "workouts"
  },
  "language_info": {
   "codemirror_mode": {
    "name": "ipython",
    "version": 3
   },
   "file_extension": ".py",
   "mimetype": "text/x-python",
   "name": "python",
   "nbconvert_exporter": "python",
   "pygments_lexer": "ipython3",
   "version": "3.12.3"
  }
 },
 "nbformat": 4,
 "nbformat_minor": 5
}
