{
 "cells": [
  {
   "cell_type": "markdown",
   "id": "302533ab-1019-43ec-93d9-c684bd860120",
   "metadata": {},
   "source": [
    "# Workout Video Metadata\n",
    "\n",
    "[Resource Link](https://thepythoncode.com/article/extract-media-metadata-in-python)"
   ]
  },
  {
   "cell_type": "code",
   "execution_count": null,
   "id": "aed36f4d-808b-4f8c-a22f-515158c3cd59",
   "metadata": {},
   "outputs": [],
   "source": [
    "import ffmpeg\n",
    "import sys\n",
    "from pprint import pprint\n",
    "from pathlib import Path\n",
    "import datetime as dt\n",
    "from datetime import datetime, date\n",
    "\n",
    "downloads = Path.home() / 'Downloads'"
   ]
  },
  {
   "cell_type": "code",
   "execution_count": null,
   "id": "0b66e440-83db-46cd-a609-a785935fe9bd",
   "metadata": {},
   "outputs": [],
   "source": [
    "filepath = downloads / 'GX010466.MP4'"
   ]
  },
  {
   "cell_type": "code",
   "execution_count": null,
   "id": "71b90662-3822-4269-9495-62609ec7e017",
   "metadata": {},
   "outputs": [],
   "source": [
    "filepath.stem"
   ]
  },
  {
   "cell_type": "code",
   "execution_count": null,
   "id": "c7d43508-9b78-4154-a97e-29e745fd7cc0",
   "metadata": {},
   "outputs": [],
   "source": [
    "    format"
   ]
  },
  {
   "cell_type": "code",
   "execution_count": null,
   "id": "fb1b6cc2-ce92-41f3-8a9b-9b5130413e31",
   "metadata": {},
   "outputs": [],
   "source": [
    "metadata = ffmpeg.probe(filepath)\n",
    "streams, format = metadata['streams'], metadata['format']\n",
    "type(metadata)"
   ]
  },
  {
   "cell_type": "code",
   "execution_count": null,
   "id": "6e8c66f4-bfe4-4b10-9eaa-c7bdae352a9e",
   "metadata": {},
   "outputs": [],
   "source": [
    "pprint(streams[0])"
   ]
  },
  {
   "cell_type": "code",
   "execution_count": null,
   "id": "d2a549c2-0e40-45d6-9bb8-111e444b176c",
   "metadata": {},
   "outputs": [],
   "source": [
    "stream = streams[0]"
   ]
  },
  {
   "cell_type": "code",
   "execution_count": null,
   "id": "55652f02-0689-4752-90cf-8d97c8e812ca",
   "metadata": {},
   "outputs": [],
   "source": [
    "created_datetime = datetime.strptime(stream['tags']['creation_time'], '%Y-%m-%dT%H:%M:%S.%fZ')\n",
    "created_datetime.strftime('%Y-%m-%d')"
   ]
  },
  {
   "cell_type": "markdown",
   "id": "dfb78248-bb5f-4006-8980-331a4d309ba7",
   "metadata": {},
   "source": [
    "## NAS"
   ]
  },
  {
   "cell_type": "code",
   "execution_count": null,
   "id": "df12546e-0c6c-4364-8b15-e7a799c496d9",
   "metadata": {},
   "outputs": [],
   "source": [
    "nas = Path('/mnt') / 'Fitness' / 'Workout Videos to Organize' / '2023 Named Files' / '07.11'"
   ]
  },
  {
   "cell_type": "code",
   "execution_count": null,
   "id": "f21d4e7f-47e1-4f01-a82e-322896d8e461",
   "metadata": {},
   "outputs": [],
   "source": [
    "filepath = nas / 'Squat S1 - Warmup.MP4'\n",
    "metadata = ffmpeg.probe(filepath)\n",
    "streams, format = metadata['streams'], metadata['format']"
   ]
  },
  {
   "cell_type": "code",
   "execution_count": null,
   "id": "d169641a-02f8-407c-abb5-90270ffbe4f5",
   "metadata": {},
   "outputs": [],
   "source": [
    "format"
   ]
  },
  {
   "cell_type": "code",
   "execution_count": null,
   "id": "e115cb4e-c768-48ac-8609-2c146992bf69",
   "metadata": {},
   "outputs": [],
   "source": [
    "created_datetime = datetime.strptime(streams[0]['tags']['creation_time'], '%Y-%m-%dT%H:%M:%S.%fZ')\n",
    "created_datetime.strftime('%Y-%m-%d')"
   ]
  },
  {
   "cell_type": "code",
   "execution_count": null,
   "id": "52f7cb2f-1691-4f51-85b7-ae350b6a7d54",
   "metadata": {},
   "outputs": [],
   "source": [
    "(datetime(2023, 7, 9) - created_datetime).days"
   ]
  },
  {
   "cell_type": "code",
   "execution_count": null,
   "id": "8ee1654b-4aa9-44ee-bdc4-0f0b8d37b5d7",
   "metadata": {},
   "outputs": [],
   "source": [
    "(datetime(2023, 7, 8) - created_datetime).days"
   ]
  },
  {
   "cell_type": "code",
   "execution_count": null,
   "id": "447f64fa-d976-4d95-ad31-f99f015ca365",
   "metadata": {},
   "outputs": [],
   "source": [
    "(datetime(2023, 5, 7) - created_datetime).days"
   ]
  },
  {
   "cell_type": "code",
   "execution_count": null,
   "id": "73cc8d78-c01e-454e-87e8-01149c422c3a",
   "metadata": {},
   "outputs": [],
   "source": [
    "streams"
   ]
  },
  {
   "cell_type": "markdown",
   "id": "7267f4e7-8aaf-4f2d-9e0b-4ba19b665b3f",
   "metadata": {},
   "source": [
    "# Errors"
   ]
  },
  {
   "cell_type": "code",
   "execution_count": null,
   "id": "fd692ae9-92d6-4113-83b4-513654960f91",
   "metadata": {},
   "outputs": [],
   "source": [
    "filepath = '/mnt/Fitness/Workout Videos/Lower/Quads/Back Squats/GX010442.MP4'\n",
    "metadata = ffmpeg.probe(filepath)\n",
    "streams, format = metadata['streams'], metadata['format']"
   ]
  }
 ],
 "metadata": {
  "kernelspec": {
   "display_name": "workouts",
   "language": "python",
   "name": "workouts"
  },
  "language_info": {
   "codemirror_mode": {
    "name": "ipython",
    "version": 3
   },
   "file_extension": ".py",
   "mimetype": "text/x-python",
   "name": "python",
   "nbconvert_exporter": "python",
   "pygments_lexer": "ipython3",
   "version": "3.12.3"
  }
 },
 "nbformat": 4,
 "nbformat_minor": 5
}
